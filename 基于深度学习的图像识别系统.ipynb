{
 "cells": [
  {
   "cell_type": "code",
   "execution_count": 16,
   "id": "d0ab7028",
   "metadata": {},
   "outputs": [
    {
     "name": "stdout",
     "output_type": "stream",
     "text": [
      "Total images loaded: 4322\n",
      "Total labels loaded: 4322\n"
     ]
    },
    {
     "name": "stderr",
     "output_type": "stream",
     "text": [
      "<ipython-input-16-8e272138e4b1>:35: VisibleDeprecationWarning: Creating an ndarray from ragged nested sequences (which is a list-or-tuple of lists-or-tuples-or ndarrays with different lengths or shapes) is deprecated. If you meant to do this, you must specify 'dtype=object' when creating the ndarray.\n",
      "  return np.array(images), np.array(labels)\n"
     ]
    }
   ],
   "source": [
    "import os\n",
    "from PIL import Image\n",
    "import numpy as np\n",
    "\n",
    "# 定义类别标签\n",
    "class_labels = {\n",
    "    \"daisy\": 0,\n",
    "    \"dandelion\": 1,\n",
    "    \"rose\": 2,\n",
    "    \"sunflower\": 3,\n",
    "    \"tulip\": 4\n",
    "}\n",
    "\n",
    "# 定义函数加载图像数据\n",
    "def load_data(root_dir):\n",
    "    images = []\n",
    "    labels = []\n",
    "\n",
    "    for class_name in os.listdir(root_dir):\n",
    "        class_dir = os.path.join(root_dir, class_name)\n",
    "        if os.path.isdir(class_dir):\n",
    "            for image_name in os.listdir(class_dir):\n",
    "                image_path = os.path.join(class_dir, image_name)\n",
    "                try:\n",
    "                    # 使用PIL库加载图像\n",
    "                    image = Image.open(image_path)\n",
    "                    # 将图像转换为numpy数组\n",
    "                    image = np.array(image)\n",
    "                    images.append(image)\n",
    "                    # 获取类别标签并添加到列表中\n",
    "                    labels.append(class_labels[class_name])\n",
    "                except Exception as e:\n",
    "                    print(f\"Error loading image: {image_path} - {e}\")\n",
    "\n",
    "    return np.array(images), np.array(labels)\n",
    "\n",
    "# 加载数据集\n",
    "root_dir = r\"C:\\Users\\21032\\桌面\\flowers\"\n",
    "images, labels = load_data(root_dir)\n",
    "\n",
    "# 检查加载的图像数量和标签数量是否一致\n",
    "print(f\"Total images loaded: {len(images)}\")\n",
    "print(f\"Total labels loaded: {len(labels)}\")\n"
   ]
  },
  {
   "cell_type": "code",
   "execution_count": 9,
   "id": "caabfaf0",
   "metadata": {},
   "outputs": [],
   "source": [
    "from matplotlib import rcParams\n",
    "\n",
    "# 设置全局字体\n",
    "rcParams['font.family'] = 'SimHei'\n",
    "rcParams['font.size'] = 14\n",
    "\n",
    "# 之后绘制的图表会使用这个字体"
   ]
  },
  {
   "cell_type": "code",
   "execution_count": 18,
   "id": "a1b8d4fb",
   "metadata": {},
   "outputs": [
    {
     "name": "stderr",
     "output_type": "stream",
     "text": [
      "<ipython-input-18-bc27926e5ba8>:37: VisibleDeprecationWarning: Creating an ndarray from ragged nested sequences (which is a list-or-tuple of lists-or-tuples-or ndarrays with different lengths or shapes) is deprecated. If you meant to do this, you must specify 'dtype=object' when creating the ndarray.\n",
      "  return np.array(images), np.array(labels)\n"
     ]
    },
    {
     "name": "stdout",
     "output_type": "stream",
     "text": [
      "加载的图像总数: 4322\n",
      "已加载标签总数: 4322\n",
      "{'daisy': 768, 'dandelion': 1052, 'rose': 784, 'sunflower': 734, 'tulip': 984}\n"
     ]
    },
    {
     "data": {
      "image/png": "[encoded data removed]",
      "text/plain": [
       "<Figure size 720x432 with 1 Axes>"
      ]
     },
     "metadata": {
      "needs_background": "light"
     },
     "output_type": "display_data"
    }
   ],
   "source": [
    "import os\n",
    "from PIL import Image\n",
    "import numpy as np\n",
    "from collections import Counter\n",
    "import matplotlib.pyplot as plt\n",
    "\n",
    "# 定义类别标签\n",
    "class_labels = {\n",
    "    \"daisy\": 0,\n",
    "    \"dandelion\": 1,\n",
    "    \"rose\": 2,\n",
    "    \"sunflower\": 3,\n",
    "    \"tulip\": 4\n",
    "}\n",
    "\n",
    "# 定义函数加载图像数据\n",
    "def load_data(root_dir):\n",
    "    images = []\n",
    "    labels = []\n",
    "\n",
    "    for class_name in os.listdir(root_dir):\n",
    "        class_dir = os.path.join(root_dir, class_name)\n",
    "        if os.path.isdir(class_dir):\n",
    "            for image_name in os.listdir(class_dir):\n",
    "                image_path = os.path.join(class_dir, image_name)\n",
    "                try:\n",
    "                    # 使用PIL库加载图像\n",
    "                    image = Image.open(image_path)\n",
    "                    # 将图像转换为numpy数组\n",
    "                    image = np.array(image)\n",
    "                    images.append(image)\n",
    "                    # 获取类别标签并添加到列表中\n",
    "                    labels.append(class_labels[class_name])\n",
    "                except Exception as e:\n",
    "                    print(f\"Error loading image: {image_path} - {e}\")\n",
    "\n",
    "    return np.array(images), np.array(labels)\n",
    "\n",
    "# 加载数据集\n",
    "root_dir = r\"C:\\Users\\21032\\桌面\\flowers\"\n",
    "images, labels = load_data(root_dir)\n",
    "\n",
    "# 检查加载的图像数量和标签数量是否一致\n",
    "print(f\"加载的图像总数: {len(images)}\")\n",
    "print(f\"已加载标签总数: {len(labels)}\")\n",
    "\n",
    "# 统计每类花的数量\n",
    "counter = Counter(labels)\n",
    "flower_counts = {class_name: counter[label] for class_name, label in class_labels.items()}\n",
    "print(flower_counts)\n",
    "\n",
    "# 可视化各类花的数量\n",
    "# 设置中文显示\n",
    "plt.rcParams['font.sans-serif'] = ['SimHei']\n",
    "plt.rcParams['axes.unicode_minus'] = False\n",
    "\n",
    "# 绘制条形图\n",
    "plt.figure(figsize=(10, 6))\n",
    "plt.bar(flower_counts.keys(), flower_counts.values())\n",
    "plt.xlabel('花类别')\n",
    "plt.ylabel('数量')\n",
    "plt.title('各类花的数量统计')\n",
    "\n",
    "# 显示标签\n",
    "for x, y in enumerate(flower_counts.values()):\n",
    "    plt.text(x, y+5, f'{y}', ha='center')\n",
    "\n",
    "plt.show()"
   ]
  },
  {
   "cell_type": "code",
   "execution_count": null,
   "id": "28565d1d",
   "metadata": {},
   "outputs": [],
   "source": []
  },
  {
   "cell_type": "code",
   "execution_count": 19,
   "id": "edfd9eb6",
   "metadata": {},
   "outputs": [
    {
     "name": "stdout",
     "output_type": "stream",
     "text": [
      "Total unique images: 4316\n",
      "Total unique labels: 4316\n"
     ]
    },
    {
     "name": "stderr",
     "output_type": "stream",
     "text": [
      "<ipython-input-19-73785041042d>:16: VisibleDeprecationWarning: Creating an ndarray from ragged nested sequences (which is a list-or-tuple of lists-or-tuples-or ndarrays with different lengths or shapes) is deprecated. If you meant to do this, you must specify 'dtype=object' when creating the ndarray.\n",
      "  return np.array(unique_images), np.array(unique_labels)\n"
     ]
    }
   ],
   "source": [
    "def remove_duplicate_images(images, labels):\n",
    "    unique_images = []\n",
    "    unique_labels = []\n",
    "    seen_images = set()\n",
    "\n",
    "    for i in range(len(images)):\n",
    "        # 将图像转换为哈希值\n",
    "        image_hash = hash(images[i].tobytes())\n",
    "\n",
    "        # 检查图像是否已经存在\n",
    "        if image_hash not in seen_images:\n",
    "            seen_images.add(image_hash)\n",
    "            unique_images.append(images[i])\n",
    "            unique_labels.append(labels[i])\n",
    "\n",
    "    return np.array(unique_images), np.array(unique_labels)\n",
    "\n",
    "# 清除重复图像\n",
    "clean_images, clean_labels = remove_duplicate_images(images, labels)\n",
    "\n",
    "# 打印清洗后的图像数量和标签数量\n",
    "print(f\"Total unique images: {len(clean_images)}\")\n",
    "print(f\"Total unique labels: {len(clean_labels)}\")\n"
   ]
  },
  {
   "cell_type": "code",
   "execution_count": null,
   "id": "37465e7c",
   "metadata": {},
   "outputs": [],
   "source": []
  },
  {
   "cell_type": "code",
   "execution_count": 20,
   "id": "66d255d4",
   "metadata": {},
   "outputs": [
    {
     "name": "stdout",
     "output_type": "stream",
     "text": [
      "Total clear images: 4287\n",
      "Total clear labels: 4287\n"
     ]
    },
    {
     "name": "stderr",
     "output_type": "stream",
     "text": [
      "<ipython-input-20-4236d3982226>:14: VisibleDeprecationWarning: Creating an ndarray from ragged nested sequences (which is a list-or-tuple of lists-or-tuples-or ndarrays with different lengths or shapes) is deprecated. If you meant to do this, you must specify 'dtype=object' when creating the ndarray.\n",
      "  return np.array(clear_images), np.array(clear_labels)\n"
     ]
    }
   ],
   "source": [
    "def remove_blurry_images(images, labels, threshold):\n",
    "    clear_images = []\n",
    "    clear_labels = []\n",
    "\n",
    "    for i in range(len(images)):\n",
    "        # 使用图像的方差作为清晰度指标\n",
    "        variance = np.var(images[i])\n",
    "\n",
    "        # 如果方差超过阈值，则认为图像是清晰的\n",
    "        if variance > threshold:\n",
    "            clear_images.append(images[i])\n",
    "            clear_labels.append(labels[i])\n",
    "\n",
    "    return np.array(clear_images), np.array(clear_labels)\n",
    "\n",
    "# 设置阈值\n",
    "blur_threshold = 1000\n",
    "\n",
    "# 清除模糊图像\n",
    "clean_images, clean_labels = remove_blurry_images(clean_images, clean_labels, blur_threshold)\n",
    "\n",
    "# 打印清洗后的图像数量和标签数量\n",
    "print(f\"Total clear images: {len(clean_images)}\")\n",
    "print(f\"Total clear labels: {len(clean_labels)}\")\n"
   ]
  },
  {
   "cell_type": "code",
   "execution_count": 21,
   "id": "a82b556e",
   "metadata": {},
   "outputs": [
    {
     "data": {
      "image/png": "[encoded data removed]",
      "text/plain": [
       "<Figure size 576x432 with 1 Axes>"
      ]
     },
     "metadata": {
      "needs_background": "light"
     },
     "output_type": "display_data"
    }
   ],
   "source": [
    "import matplotlib.pyplot as plt\n",
    "\n",
    "# 统计每个类别的图片数量\n",
    "class_counts = {}\n",
    "for label in clean_labels:\n",
    "    if label not in class_counts:\n",
    "        class_counts[label] = 0\n",
    "    class_counts[label] += 1\n",
    "\n",
    "# 提取类别名称\n",
    "class_names = list(class_labels.keys())\n",
    "\n",
    "# 设置中文字体\n",
    "plt.rcParams['font.sans-serif'] = ['SimHei']\n",
    "\n",
    "# 绘制柱状图\n",
    "plt.figure(figsize=(8,6))\n",
    "bars = plt.bar(class_names, [class_counts[i] for i in range(len(class_names))])\n",
    "plt.xlabel('类别')\n",
    "plt.ylabel('图片数量')\n",
    "plt.title('数据清洗后每个类别的图片数量')\n",
    "\n",
    "# 在柱状图上显示具体数值\n",
    "for bar in bars:\n",
    "    yval = bar.get_height()\n",
    "    plt.text(bar.get_x() + bar.get_width() / 2, yval, round(yval), va='bottom')\n",
    "\n",
    "# 增加间距\n",
    "plt.tight_layout()\n",
    "\n",
    "# 输出可视化统计图\n",
    "plt.savefig('图片数量统计图.png')\n",
    "\n",
    "plt.show()\n"
   ]
  },
  {
   "cell_type": "code",
   "execution_count": 11,
   "id": "399b4c39",
   "metadata": {},
   "outputs": [
    {
     "name": "stdout",
     "output_type": "stream",
     "text": [
      "X_train shape: (3429, 1)\n",
      "y_train shape: (3429,)\n",
      "X_train data type: object\n",
      "y_train data type: int32\n"
     ]
    }
   ],
   "source": [
    "print(\"X_train shape:\", X_train.shape)\n",
    "print(\"y_train shape:\", y_train.shape)\n",
    "print(\"X_train data type:\", X_train.dtype)\n",
    "print(\"y_train data type:\", y_train.dtype)\n"
   ]
  },
  {
   "cell_type": "code",
   "execution_count": null,
   "id": "1e0d1d38",
   "metadata": {},
   "outputs": [],
   "source": []
  },
  {
   "cell_type": "code",
   "execution_count": null,
   "id": "ddee5c49",
   "metadata": {},
   "outputs": [],
   "source": []
  },
  {
   "cell_type": "code",
   "execution_count": null,
   "id": "f1093498",
   "metadata": {},
   "outputs": [],
   "source": []
  },
  {
   "cell_type": "code",
   "execution_count": 13,
   "id": "b5629eb3",
   "metadata": {},
   "outputs": [
    {
     "data": {
      "image/png": "[encoded data removed]",
      "text/plain": [
       "<Figure size 576x432 with 1 Axes>"
      ]
     },
     "metadata": {
      "needs_background": "light"
     },
     "output_type": "display_data"
    }
   ],
   "source": [
    "import matplotlib.pyplot as plt\n",
    "\n",
    "# 统计每个类别的图片数量\n",
    "class_counts = {}\n",
    "for label in clean_labels:\n",
    "    if label not in class_counts:\n",
    "        class_counts[label] = 0\n",
    "    class_counts[label] += 1\n",
    "\n",
    "# 提取类别名称\n",
    "class_names = list(class_labels.keys())\n",
    "\n",
    "# 设置中文字体\n",
    "plt.rcParams['font.sans-serif'] = ['SimHei']\n",
    "\n",
    "# 绘制柱状图\n",
    "plt.figure(figsize=(8,6))\n",
    "bars = plt.bar(class_names, [class_counts[i] for i in range(len(class_names))])\n",
    "plt.xlabel('类别')\n",
    "plt.ylabel('图片数量')\n",
    "plt.title('数据清洗后每个类别的图片数量')\n",
    "\n",
    "# 在柱状图上显示具体数值\n",
    "for bar in bars:\n",
    "    yval = bar.get_height()\n",
    "    plt.text(bar.get_x() + bar.get_width() / 2, yval, round(yval), va='bottom')\n",
    "\n",
    "# 增加间距\n",
    "plt.tight_layout()\n",
    "\n",
    "# 输出可视化统计图\n",
    "plt.savefig('图片数量统计图.png')\n",
    "\n",
    "plt.show()\n"
   ]
  },
  {
   "cell_type": "code",
   "execution_count": 18,
   "id": "db6448b6",
   "metadata": {},
   "outputs": [
    {
     "name": "stdout",
     "output_type": "stream",
     "text": [
      "Total images loaded: 4322\n",
      "Total labels loaded: 4322\n"
     ]
    },
    {
     "name": "stderr",
     "output_type": "stream",
     "text": [
      "<ipython-input-18-c1a2bc63dd90>:35: VisibleDeprecationWarning: Creating an ndarray from ragged nested sequences (which is a list-or-tuple of lists-or-tuples-or ndarrays with different lengths or shapes) is deprecated. If you meant to do this, you must specify 'dtype=object' when creating the ndarray.\n",
      "  return np.array(images), np.array(labels)\n"
     ]
    }
   ],
   "source": [
    "import os\n",
    "from PIL import Image\n",
    "import numpy as np\n",
    "\n",
    "# 定义类别标签\n",
    "class_labels = {\n",
    "    \"daisy\": 0,\n",
    "    \"dandelion\": 1,\n",
    "    \"rose\": 2,\n",
    "    \"sunflower\": 3,\n",
    "    \"tulip\": 4\n",
    "}\n",
    "\n",
    "# 加载数据集\n",
    "def load_data(root_dir):\n",
    "    images = []\n",
    "    labels = []\n",
    "\n",
    "    for class_name in os.listdir(root_dir):\n",
    "        class_dir = os.path.join(root_dir, class_name)\n",
    "        if os.path.isdir(class_dir):\n",
    "            for image_name in os.listdir(class_dir):\n",
    "                image_path = os.path.join(class_dir, image_name)\n",
    "                try:\n",
    "                    # 使用PIL库加载图像\n",
    "                    image = Image.open(image_path)\n",
    "                    # 将图像转换为numpy数组\n",
    "                    image = np.array(image)\n",
    "                    images.append(image)\n",
    "                    # 获取类别标签并添加到列表中\n",
    "                    labels.append(class_labels[class_name])\n",
    "                except Exception as e:\n",
    "                    print(f\"Error loading image: {image_path} - {e}\")\n",
    "\n",
    "    return np.array(images), np.array(labels)\n",
    "\n",
    "# 加载数据集\n",
    "root_dir = r\"C:\\Users\\21032\\桌面\\flowers\"\n",
    "images, labels = load_data(root_dir)\n",
    "\n",
    "# 检查加载的图像数量和标签数量是否一致\n",
    "print(f\"Total images loaded: {len(images)}\")\n",
    "print(f\"Total labels loaded: {len(labels)}\")\n"
   ]
  },
  {
   "cell_type": "code",
   "execution_count": 19,
   "id": "3554dcde",
   "metadata": {},
   "outputs": [],
   "source": [
    "# 清除重复图像\n",
    "def remove_duplicate_images(images, labels):\n",
    "    unique_images = []\n",
    "    unique_labels = []\n",
    "    seen_images = set()\n",
    "\n",
    "    for i in range(len(images)):\n",
    "        # 将图像转换为哈希值\n",
    "        image_hash = hash(images[i].tobytes())\n",
    "\n",
    "        # 检查图像是否已经存在\n",
    "        if image_hash not in seen_images:\n",
    "            seen_images.add(image_hash)\n",
    "            unique_images.append(images[i])\n",
    "            unique_labels.append(labels[i])\n",
    "\n",
    "    return np.array(unique_images), np.array(unique_labels)\n",
    "\n",
    "# 清除模糊图像\n",
    "def remove_blurry_images(images, labels, threshold):\n",
    "    clear_images = []\n",
    "    clear_labels = []\n",
    "\n",
    "    for i in range(len(images)):\n",
    "        # 使用图像的方差作为清晰度指标\n",
    "        variance = np.var(images[i])\n",
    "\n",
    "        # 如果方差超过阈值，则认为图像是清晰的\n",
    "        if variance > threshold:\n",
    "            clear_images.append(images[i])\n",
    "            clear_labels.append(labels[i])\n",
    "\n",
    "    return np.array(clear_images), np.array(clear_labels)\n"
   ]
  },
  {
   "cell_type": "code",
   "execution_count": 24,
   "id": "a16c9683",
   "metadata": {},
   "outputs": [
    {
     "name": "stderr",
     "output_type": "stream",
     "text": [
      "<ipython-input-24-41f325d64dce>:25: VisibleDeprecationWarning: Creating an ndarray from ragged nested sequences (which is a list-or-tuple of lists-or-tuples-or ndarrays with different lengths or shapes) is deprecated. If you meant to do this, you must specify 'dtype=object' when creating the ndarray.\n",
      "  return np.array(images), np.array(labels)\n",
      "<ipython-input-23-9d7e08a742ef>:20: VisibleDeprecationWarning: Creating an ndarray from ragged nested sequences (which is a list-or-tuple of lists-or-tuples-or ndarrays with different lengths or shapes) is deprecated. If you meant to do this, you must specify 'dtype=object' when creating the ndarray.\n",
      "  return np.array(unique_images), np.array(unique_labels)\n"
     ]
    },
    {
     "name": "stdout",
     "output_type": "stream",
     "text": [
      "Clean images shape: (4287,)\n",
      "Clean labels shape: (4287,)\n",
      "Clean images data type: object\n",
      "Clean labels data type: int32\n"
     ]
    },
    {
     "name": "stderr",
     "output_type": "stream",
     "text": [
      "<ipython-input-23-9d7e08a742ef>:36: VisibleDeprecationWarning: Creating an ndarray from ragged nested sequences (which is a list-or-tuple of lists-or-tuples-or ndarrays with different lengths or shapes) is deprecated. If you meant to do this, you must specify 'dtype=object' when creating the ndarray.\n",
      "  return np.array(clear_images), np.array(clear_labels)\n"
     ]
    }
   ],
   "source": [
    "# 重新定义 load_data 函数，确保每个图像都被正确地转换为 NumPy 数组\n",
    "def load_data(root_dir):\n",
    "    images = []\n",
    "    labels = []\n",
    "\n",
    "    for class_name in os.listdir(root_dir):\n",
    "        class_dir = os.path.join(root_dir, class_name)\n",
    "        if os.path.isdir(class_dir):\n",
    "            for image_name in os.listdir(class_dir):\n",
    "                image_path = os.path.join(class_dir, image_name)\n",
    "                try:\n",
    "                    # 使用PIL库加载图像\n",
    "                    image = Image.open(image_path)\n",
    "                    # 将图像转换为numpy数组\n",
    "                    image = np.array(image)\n",
    "                    # 检查图像的维度，如果是灰度图，则将其转换为RGB图像\n",
    "                    if len(image.shape) == 2:\n",
    "                        image = np.stack((image,) * 3, axis=-1)\n",
    "                    images.append(image)\n",
    "                    # 获取类别标签并添加到列表中\n",
    "                    labels.append(class_labels[class_name])\n",
    "                except Exception as e:\n",
    "                    print(f\"Error loading image: {image_path} - {e}\")\n",
    "\n",
    "    return np.array(images), np.array(labels)\n",
    "\n",
    "# 加载数据集\n",
    "root_dir = r\"C:\\Users\\21032\\桌面\\flowers\"\n",
    "images, labels = load_data(root_dir)\n",
    "\n",
    "# 清洗数据\n",
    "clean_images, clean_labels = remove_duplicate_images(images, labels)\n",
    "clean_images, clean_labels = remove_blurry_images(clean_images, clean_labels, blur_threshold)\n",
    "\n",
    "# 打印清洗后的数据形状和类型\n",
    "print(\"Clean images shape:\", clean_images.shape)\n",
    "print(\"Clean labels shape:\", clean_labels.shape)\n",
    "print(\"Clean images data type:\", clean_images.dtype)\n",
    "print(\"Clean labels data type:\", clean_labels.dtype)\n"
   ]
  },
  {
   "cell_type": "code",
   "execution_count": 25,
   "id": "bed56079",
   "metadata": {},
   "outputs": [
    {
     "name": "stdout",
     "output_type": "stream",
     "text": [
      "Clean images shape: (4285, 224, 224, 3)\n",
      "Clean labels shape: (4285,)\n",
      "Clean images data type: uint8\n",
      "Clean labels data type: int32\n"
     ]
    }
   ],
   "source": [
    "from PIL import Image\n",
    "\n",
    "# 重新定义 remove_blurry_images 函数，确保所有图像具有相同的尺寸\n",
    "def remove_blurry_images(images, labels, threshold):\n",
    "    clear_images = []\n",
    "    clear_labels = []\n",
    "\n",
    "    for i in range(len(images)):\n",
    "        # 使用PIL库重新调整图像尺寸为 (224, 224)，确保所有图像具有相同的尺寸\n",
    "        image = Image.fromarray(images[i])\n",
    "        image = image.resize((224, 224))\n",
    "        image = np.array(image)\n",
    "\n",
    "        # 使用图像的方差作为清晰度指标\n",
    "        variance = np.var(image)\n",
    "\n",
    "        # 如果方差超过阈值，则认为图像是清晰的\n",
    "        if variance > threshold:\n",
    "            clear_images.append(image)\n",
    "            clear_labels.append(labels[i])\n",
    "\n",
    "    return np.array(clear_images), np.array(clear_labels)\n",
    "\n",
    "# 清除模糊图像\n",
    "clean_images, clean_labels = remove_blurry_images(clean_images, clean_labels, blur_threshold)\n",
    "\n",
    "# 打印清洗后的数据形状和类型\n",
    "print(\"Clean images shape:\", clean_images.shape)\n",
    "print(\"Clean labels shape:\", clean_labels.shape)\n",
    "print(\"Clean images data type:\", clean_images.dtype)\n",
    "print(\"Clean labels data type:\", clean_labels.dtype)\n"
   ]
  },
  {
   "cell_type": "code",
   "execution_count": null,
   "id": "2969e73f",
   "metadata": {},
   "outputs": [],
   "source": [
    "现在清洗后的数据具有了正确的形状和类型。clean_images 是一个包含 4285 张图像的数组，每张图像的尺寸为 224x224，\n",
    "具有 3 个通道 (RGB)，数据类型为 uint8。clean_labels 是一个包含 4285 个标签的数组，数据类型为 int32。"
   ]
  },
  {
   "cell_type": "code",
   "execution_count": 34,
   "id": "fe599ae7",
   "metadata": {
    "scrolled": false
   },
   "outputs": [
    {
     "name": "stdout",
     "output_type": "stream",
     "text": [
      "训练 SVM 分类器...\n"
     ]
    },
    {
     "data": {
      "application/vnd.jupyter.widget-view+json": {
       "model_id": "",
       "version_major": 2,
       "version_minor": 0
      },
      "text/plain": [
       "Epoch 1:   0%|          | 0/54 [00:00<?, ?it/s]"
      ]
     },
     "metadata": {},
     "output_type": "display_data"
    },
    {
     "name": "stdout",
     "output_type": "stream",
     "text": [
      "训练损失：418456.0106, 训练准确率：0.2579\n"
     ]
    },
    {
     "data": {
      "application/vnd.jupyter.widget-view+json": {
       "model_id": "",
       "version_major": 2,
       "version_minor": 0
      },
      "text/plain": [
       "Epoch 2:   0%|          | 0/54 [00:00<?, ?it/s]"
      ]
     },
     "metadata": {},
     "output_type": "display_data"
    },
    {
     "name": "stdout",
     "output_type": "stream",
     "text": [
      "训练损失：328107.1917, 训练准确率：0.2996\n"
     ]
    },
    {
     "data": {
      "application/vnd.jupyter.widget-view+json": {
       "model_id": "",
       "version_major": 2,
       "version_minor": 0
      },
      "text/plain": [
       "Epoch 3:   0%|          | 0/54 [00:00<?, ?it/s]"
      ]
     },
     "metadata": {},
     "output_type": "display_data"
    },
    {
     "name": "stdout",
     "output_type": "stream",
     "text": [
      "训练损失：240642.8204, 训练准确率：0.3562\n"
     ]
    },
    {
     "data": {
      "application/vnd.jupyter.widget-view+json": {
       "model_id": "",
       "version_major": 2,
       "version_minor": 0
      },
      "text/plain": [
       "Epoch 4:   0%|          | 0/54 [00:00<?, ?it/s]"
      ]
     },
     "metadata": {},
     "output_type": "display_data"
    },
    {
     "name": "stdout",
     "output_type": "stream",
     "text": [
      "训练损失：261850.8116, 训练准确率：0.3509\n"
     ]
    },
    {
     "data": {
      "application/vnd.jupyter.widget-view+json": {
       "model_id": "",
       "version_major": 2,
       "version_minor": 0
      },
      "text/plain": [
       "Epoch 5:   0%|          | 0/54 [00:00<?, ?it/s]"
      ]
     },
     "metadata": {},
     "output_type": "display_data"
    },
    {
     "name": "stdout",
     "output_type": "stream",
     "text": [
      "训练损失：263328.7971, 训练准确率：0.3550\n"
     ]
    },
    {
     "data": {
      "application/vnd.jupyter.widget-view+json": {
       "model_id": "",
       "version_major": 2,
       "version_minor": 0
      },
      "text/plain": [
       "Epoch 6:   0%|          | 0/54 [00:00<?, ?it/s]"
      ]
     },
     "metadata": {},
     "output_type": "display_data"
    },
    {
     "name": "stdout",
     "output_type": "stream",
     "text": [
      "训练损失：224273.4445, 训练准确率：0.3795\n"
     ]
    },
    {
     "data": {
      "application/vnd.jupyter.widget-view+json": {
       "model_id": "",
       "version_major": 2,
       "version_minor": 0
      },
      "text/plain": [
       "Epoch 7:   0%|          | 0/54 [00:00<?, ?it/s]"
      ]
     },
     "metadata": {},
     "output_type": "display_data"
    },
    {
     "name": "stdout",
     "output_type": "stream",
     "text": [
      "训练损失：210503.8578, 训练准确率：0.3886\n"
     ]
    },
    {
     "data": {
      "application/vnd.jupyter.widget-view+json": {
       "model_id": "",
       "version_major": 2,
       "version_minor": 0
      },
      "text/plain": [
       "Epoch 8:   0%|          | 0/54 [00:00<?, ?it/s]"
      ]
     },
     "metadata": {},
     "output_type": "display_data"
    },
    {
     "name": "stdout",
     "output_type": "stream",
     "text": [
      "训练损失：233694.9014, 训练准确率：0.3877\n"
     ]
    },
    {
     "data": {
      "application/vnd.jupyter.widget-view+json": {
       "model_id": "",
       "version_major": 2,
       "version_minor": 0
      },
      "text/plain": [
       "Epoch 9:   0%|          | 0/54 [00:00<?, ?it/s]"
      ]
     },
     "metadata": {},
     "output_type": "display_data"
    },
    {
     "name": "stdout",
     "output_type": "stream",
     "text": [
      "训练损失：220740.5238, 训练准确率：0.3880\n"
     ]
    },
    {
     "data": {
      "application/vnd.jupyter.widget-view+json": {
       "model_id": "",
       "version_major": 2,
       "version_minor": 0
      },
      "text/plain": [
       "Epoch 10:   0%|          | 0/54 [00:00<?, ?it/s]"
      ]
     },
     "metadata": {},
     "output_type": "display_data"
    },
    {
     "name": "stdout",
     "output_type": "stream",
     "text": [
      "训练损失：209491.1711, 训练准确率：0.4032\n"
     ]
    },
    {
     "data": {
      "application/vnd.jupyter.widget-view+json": {
       "model_id": "",
       "version_major": 2,
       "version_minor": 0
      },
      "text/plain": [
       "Epoch 11:   0%|          | 0/54 [00:00<?, ?it/s]"
      ]
     },
     "metadata": {},
     "output_type": "display_data"
    },
    {
     "name": "stdout",
     "output_type": "stream",
     "text": [
      "训练损失：195076.4268, 训练准确率：0.4119\n"
     ]
    },
    {
     "data": {
      "application/vnd.jupyter.widget-view+json": {
       "model_id": "",
       "version_major": 2,
       "version_minor": 0
      },
      "text/plain": [
       "Epoch 12:   0%|          | 0/54 [00:00<?, ?it/s]"
      ]
     },
     "metadata": {},
     "output_type": "display_data"
    },
    {
     "name": "stdout",
     "output_type": "stream",
     "text": [
      "训练损失：218859.6568, 训练准确率：0.3956\n"
     ]
    },
    {
     "data": {
      "application/vnd.jupyter.widget-view+json": {
       "model_id": "",
       "version_major": 2,
       "version_minor": 0
      },
      "text/plain": [
       "Epoch 13:   0%|          | 0/54 [00:00<?, ?it/s]"
      ]
     },
     "metadata": {},
     "output_type": "display_data"
    },
    {
     "name": "stdout",
     "output_type": "stream",
     "text": [
      "训练损失：186315.1422, 训练准确率：0.4212\n"
     ]
    },
    {
     "data": {
      "application/vnd.jupyter.widget-view+json": {
       "model_id": "",
       "version_major": 2,
       "version_minor": 0
      },
      "text/plain": [
       "Epoch 14:   0%|          | 0/54 [00:00<?, ?it/s]"
      ]
     },
     "metadata": {},
     "output_type": "display_data"
    },
    {
     "name": "stdout",
     "output_type": "stream",
     "text": [
      "训练损失：200628.6053, 训练准确率：0.4151\n"
     ]
    },
    {
     "data": {
      "application/vnd.jupyter.widget-view+json": {
       "model_id": "",
       "version_major": 2,
       "version_minor": 0
      },
      "text/plain": [
       "Epoch 15:   0%|          | 0/54 [00:00<?, ?it/s]"
      ]
     },
     "metadata": {},
     "output_type": "display_data"
    },
    {
     "name": "stdout",
     "output_type": "stream",
     "text": [
      "训练损失：175196.2157, 训练准确率：0.4419\n"
     ]
    },
    {
     "data": {
      "application/vnd.jupyter.widget-view+json": {
       "model_id": "",
       "version_major": 2,
       "version_minor": 0
      },
      "text/plain": [
       "Epoch 16:   0%|          | 0/54 [00:00<?, ?it/s]"
      ]
     },
     "metadata": {},
     "output_type": "display_data"
    },
    {
     "name": "stdout",
     "output_type": "stream",
     "text": [
      "训练损失：173555.2636, 训练准确率：0.4367\n"
     ]
    },
    {
     "data": {
      "application/vnd.jupyter.widget-view+json": {
       "model_id": "",
       "version_major": 2,
       "version_minor": 0
      },
      "text/plain": [
       "Epoch 17:   0%|          | 0/54 [00:00<?, ?it/s]"
      ]
     },
     "metadata": {},
     "output_type": "display_data"
    },
    {
     "name": "stdout",
     "output_type": "stream",
     "text": [
      "训练损失：171014.6336, 训练准确率：0.4446\n"
     ]
    },
    {
     "data": {
      "application/vnd.jupyter.widget-view+json": {
       "model_id": "",
       "version_major": 2,
       "version_minor": 0
      },
      "text/plain": [
       "Epoch 18:   0%|          | 0/54 [00:00<?, ?it/s]"
      ]
     },
     "metadata": {},
     "output_type": "display_data"
    },
    {
     "name": "stdout",
     "output_type": "stream",
     "text": [
      "训练损失：150331.9091, 训练准确率：0.4822\n"
     ]
    },
    {
     "data": {
      "application/vnd.jupyter.widget-view+json": {
       "model_id": "",
       "version_major": 2,
       "version_minor": 0
      },
      "text/plain": [
       "Epoch 19:   0%|          | 0/54 [00:00<?, ?it/s]"
      ]
     },
     "metadata": {},
     "output_type": "display_data"
    },
    {
     "name": "stdout",
     "output_type": "stream",
     "text": [
      "训练损失：177957.5412, 训练准确率：0.4408\n"
     ]
    },
    {
     "data": {
      "application/vnd.jupyter.widget-view+json": {
       "model_id": "",
       "version_major": 2,
       "version_minor": 0
      },
      "text/plain": [
       "Epoch 20:   0%|          | 0/54 [00:00<?, ?it/s]"
      ]
     },
     "metadata": {},
     "output_type": "display_data"
    },
    {
     "name": "stdout",
     "output_type": "stream",
     "text": [
      "训练损失：182118.9928, 训练准确率：0.4387\n"
     ]
    },
    {
     "data": {
      "application/vnd.jupyter.widget-view+json": {
       "model_id": "",
       "version_major": 2,
       "version_minor": 0
      },
      "text/plain": [
       "评估:   0%|          | 0/14 [00:00<?, ?it/s]"
      ]
     },
     "metadata": {},
     "output_type": "display_data"
    },
    {
     "name": "stdout",
     "output_type": "stream",
     "text": [
      "测试准确率：0.3839\n"
     ]
    }
   ],
   "source": [
    "import torch\n",
    "import torch.nn as nn\n",
    "import torch.optim as optim\n",
    "from torch.utils.data import DataLoader, TensorDataset\n",
    "from sklearn.model_selection import train_test_split\n",
    "from tqdm.auto import tqdm  # 使用tqdm.auto自动选择合适的进度条库\n",
    "\n",
    "# 将清洗后的图像和标签转换为 PyTorch 张量\n",
    "X = torch.tensor(clean_images, dtype=torch.float32)  # 假设 clean_images 已经归一化\n",
    "y = torch.tensor(clean_labels, dtype=torch.long)\n",
    "\n",
    "# 将数据拆分为训练集和测试集\n",
    "X_train, X_test, y_train, y_test = train_test_split(X, y, test_size=0.2, random_state=42)\n",
    "\n",
    "# 创建训练集和测试集的 DataLoader\n",
    "train_data = TensorDataset(X_train, y_train)\n",
    "train_loader = DataLoader(train_data, batch_size=64, shuffle=True)\n",
    "test_data = TensorDataset(X_test, y_test)\n",
    "test_loader = DataLoader(test_data, batch_size=64)\n",
    "\n",
    "# 定义 SVM 模型\n",
    "class SVM(nn.Module):\n",
    "    def __init__(self):\n",
    "        super(SVM, self).__init__()\n",
    "        # 全连接层，输入尺寸为图像尺寸（224 * 224 * 3），输出尺寸为类别数量\n",
    "        self.fc = nn.Linear(224 * 224 * 3, len(class_labels))\n",
    "\n",
    "    def forward(self, x):\n",
    "        # 展平输入张量\n",
    "        x = x.view(x.size(0), -1)\n",
    "        # 前向传播\n",
    "        x = self.fc(x)\n",
    "        return x\n",
    "\n",
    "# 初始化模型、损失函数和优化器\n",
    "model = SVM()\n",
    "criterion = nn.CrossEntropyLoss()\n",
    "optimizer = optim.SGD(model.parameters(), lr=0.001)  # 调整学习率为0.001\n",
    "\n",
    "# 训练模型\n",
    "print(\"训练 SVM 分类器...\")\n",
    "for epoch in range(20):  # 增加训练轮数为20轮\n",
    "    train_loss = 0.0\n",
    "    correct = 0\n",
    "    total = 0\n",
    "    # 使用 tqdm 显示训练进度条\n",
    "    for inputs, labels in tqdm(train_loader, desc=f\"Epoch {epoch+1}\", leave=False):\n",
    "        optimizer.zero_grad()\n",
    "        outputs = model(inputs)\n",
    "        loss = criterion(outputs, labels)\n",
    "        loss.backward()\n",
    "        optimizer.step()\n",
    "        \n",
    "        # 计算损失值和准确率\n",
    "        train_loss += loss.item() * inputs.size(0)\n",
    "        _, predicted = torch.max(outputs.data, 1)\n",
    "        total += labels.size(0)\n",
    "        correct += (predicted == labels).sum().item()\n",
    "    \n",
    "    train_loss = train_loss / len(train_loader.dataset)\n",
    "    train_accuracy = correct / total\n",
    "    print(f\"训练损失：{train_loss:.4f}, 训练准确率：{train_accuracy:.4f}\")\n",
    "\n",
    "# 评估模型\n",
    "model.eval()\n",
    "with torch.no_grad():\n",
    "    correct = 0\n",
    "    total = 0\n",
    "    # 使用 tqdm 显示评估进度条\n",
    "    for inputs, labels in tqdm(test_loader, desc=\"评估\", leave=False):\n",
    "        outputs = model(inputs)\n",
    "        _, predicted = torch.max(outputs.data, 1)\n",
    "        total += labels.size(0)\n",
    "        correct += (predicted == labels).sum().item()\n",
    "\n",
    "accuracy = correct / total\n",
    "print(f\"测试准确率：{accuracy:.4f}\")\n"
   ]
  },
  {
   "cell_type": "code",
   "execution_count": 49,
   "id": "8e063f11",
   "metadata": {},
   "outputs": [
    {
     "name": "stdout",
     "output_type": "stream",
     "text": [
      "训练 SVM 分类器...\n"
     ]
    },
    {
     "data": {
      "application/vnd.jupyter.widget-view+json": {
       "model_id": "",
       "version_major": 2,
       "version_minor": 0
      },
      "text/plain": [
       "Epoch 1:   0%|          | 0/54 [00:00<?, ?it/s]"
      ]
     },
     "metadata": {},
     "output_type": "display_data"
    },
    {
     "name": "stdout",
     "output_type": "stream",
     "text": [
      "训练损失：448005.9489, 训练准确率：0.2369\n"
     ]
    },
    {
     "data": {
      "application/vnd.jupyter.widget-view+json": {
       "model_id": "",
       "version_major": 2,
       "version_minor": 0
      },
      "text/plain": [
       "Epoch 2:   0%|          | 0/54 [00:00<?, ?it/s]"
      ]
     },
     "metadata": {},
     "output_type": "display_data"
    },
    {
     "name": "stdout",
     "output_type": "stream",
     "text": [
      "训练损失：306886.7360, 训练准确率：0.3209\n"
     ]
    },
    {
     "data": {
      "application/vnd.jupyter.widget-view+json": {
       "model_id": "",
       "version_major": 2,
       "version_minor": 0
      },
      "text/plain": [
       "Epoch 3:   0%|          | 0/54 [00:00<?, ?it/s]"
      ]
     },
     "metadata": {},
     "output_type": "display_data"
    },
    {
     "name": "stdout",
     "output_type": "stream",
     "text": [
      "训练损失：266732.9952, 训练准确率：0.3428\n"
     ]
    },
    {
     "data": {
      "application/vnd.jupyter.widget-view+json": {
       "model_id": "",
       "version_major": 2,
       "version_minor": 0
      },
      "text/plain": [
       "Epoch 4:   0%|          | 0/54 [00:00<?, ?it/s]"
      ]
     },
     "metadata": {},
     "output_type": "display_data"
    },
    {
     "name": "stdout",
     "output_type": "stream",
     "text": [
      "训练损失：258918.0953, 训练准确率：0.3451\n"
     ]
    },
    {
     "data": {
      "application/vnd.jupyter.widget-view+json": {
       "model_id": "",
       "version_major": 2,
       "version_minor": 0
      },
      "text/plain": [
       "Epoch 5:   0%|          | 0/54 [00:00<?, ?it/s]"
      ]
     },
     "metadata": {},
     "output_type": "display_data"
    },
    {
     "name": "stdout",
     "output_type": "stream",
     "text": [
      "训练损失：222633.5745, 训练准确率：0.3880\n"
     ]
    },
    {
     "data": {
      "application/vnd.jupyter.widget-view+json": {
       "model_id": "",
       "version_major": 2,
       "version_minor": 0
      },
      "text/plain": [
       "Epoch 6:   0%|          | 0/54 [00:00<?, ?it/s]"
      ]
     },
     "metadata": {},
     "output_type": "display_data"
    },
    {
     "name": "stdout",
     "output_type": "stream",
     "text": [
      "训练损失：246958.3407, 训练准确率：0.3658\n"
     ]
    },
    {
     "data": {
      "application/vnd.jupyter.widget-view+json": {
       "model_id": "",
       "version_major": 2,
       "version_minor": 0
      },
      "text/plain": [
       "Epoch 7:   0%|          | 0/54 [00:00<?, ?it/s]"
      ]
     },
     "metadata": {},
     "output_type": "display_data"
    },
    {
     "name": "stdout",
     "output_type": "stream",
     "text": [
      "训练损失：212056.5742, 训练准确率：0.3877\n"
     ]
    },
    {
     "data": {
      "application/vnd.jupyter.widget-view+json": {
       "model_id": "",
       "version_major": 2,
       "version_minor": 0
      },
      "text/plain": [
       "Epoch 8:   0%|          | 0/54 [00:00<?, ?it/s]"
      ]
     },
     "metadata": {},
     "output_type": "display_data"
    },
    {
     "name": "stdout",
     "output_type": "stream",
     "text": [
      "训练损失：228186.8201, 训练准确率：0.3932\n"
     ]
    },
    {
     "data": {
      "application/vnd.jupyter.widget-view+json": {
       "model_id": "",
       "version_major": 2,
       "version_minor": 0
      },
      "text/plain": [
       "Epoch 9:   0%|          | 0/54 [00:00<?, ?it/s]"
      ]
     },
     "metadata": {},
     "output_type": "display_data"
    },
    {
     "name": "stdout",
     "output_type": "stream",
     "text": [
      "训练损失：214120.8331, 训练准确率：0.4026\n"
     ]
    },
    {
     "data": {
      "application/vnd.jupyter.widget-view+json": {
       "model_id": "",
       "version_major": 2,
       "version_minor": 0
      },
      "text/plain": [
       "Epoch 10:   0%|          | 0/54 [00:00<?, ?it/s]"
      ]
     },
     "metadata": {},
     "output_type": "display_data"
    },
    {
     "name": "stdout",
     "output_type": "stream",
     "text": [
      "训练损失：219611.2245, 训练准确率：0.4110\n"
     ]
    },
    {
     "data": {
      "application/vnd.jupyter.widget-view+json": {
       "model_id": "",
       "version_major": 2,
       "version_minor": 0
      },
      "text/plain": [
       "Epoch 11:   0%|          | 0/54 [00:00<?, ?it/s]"
      ]
     },
     "metadata": {},
     "output_type": "display_data"
    },
    {
     "name": "stdout",
     "output_type": "stream",
     "text": [
      "训练损失：189826.3426, 训练准确率：0.4183\n"
     ]
    },
    {
     "data": {
      "application/vnd.jupyter.widget-view+json": {
       "model_id": "",
       "version_major": 2,
       "version_minor": 0
      },
      "text/plain": [
       "Epoch 12:   0%|          | 0/54 [00:00<?, ?it/s]"
      ]
     },
     "metadata": {},
     "output_type": "display_data"
    },
    {
     "name": "stdout",
     "output_type": "stream",
     "text": [
      "训练损失：189702.5897, 训练准确率：0.4209\n"
     ]
    },
    {
     "data": {
      "application/vnd.jupyter.widget-view+json": {
       "model_id": "",
       "version_major": 2,
       "version_minor": 0
      },
      "text/plain": [
       "Epoch 13:   0%|          | 0/54 [00:00<?, ?it/s]"
      ]
     },
     "metadata": {},
     "output_type": "display_data"
    },
    {
     "name": "stdout",
     "output_type": "stream",
     "text": [
      "训练损失：187255.1168, 训练准确率：0.4183\n"
     ]
    },
    {
     "data": {
      "application/vnd.jupyter.widget-view+json": {
       "model_id": "",
       "version_major": 2,
       "version_minor": 0
      },
      "text/plain": [
       "Epoch 14:   0%|          | 0/54 [00:00<?, ?it/s]"
      ]
     },
     "metadata": {},
     "output_type": "display_data"
    },
    {
     "name": "stdout",
     "output_type": "stream",
     "text": [
      "训练损失：183673.2933, 训练准确率：0.4297\n"
     ]
    },
    {
     "data": {
      "application/vnd.jupyter.widget-view+json": {
       "model_id": "",
       "version_major": 2,
       "version_minor": 0
      },
      "text/plain": [
       "Epoch 15:   0%|          | 0/54 [00:00<?, ?it/s]"
      ]
     },
     "metadata": {},
     "output_type": "display_data"
    },
    {
     "name": "stdout",
     "output_type": "stream",
     "text": [
      "训练损失：217134.9324, 训练准确率：0.4002\n"
     ]
    },
    {
     "data": {
      "application/vnd.jupyter.widget-view+json": {
       "model_id": "",
       "version_major": 2,
       "version_minor": 0
      },
      "text/plain": [
       "Epoch 16:   0%|          | 0/54 [00:00<?, ?it/s]"
      ]
     },
     "metadata": {},
     "output_type": "display_data"
    },
    {
     "name": "stdout",
     "output_type": "stream",
     "text": [
      "训练损失：177446.2886, 训练准确率：0.4600\n"
     ]
    },
    {
     "data": {
      "application/vnd.jupyter.widget-view+json": {
       "model_id": "",
       "version_major": 2,
       "version_minor": 0
      },
      "text/plain": [
       "Epoch 17:   0%|          | 0/54 [00:00<?, ?it/s]"
      ]
     },
     "metadata": {},
     "output_type": "display_data"
    },
    {
     "name": "stdout",
     "output_type": "stream",
     "text": [
      "训练损失：185823.3127, 训练准确率：0.4364\n"
     ]
    },
    {
     "data": {
      "application/vnd.jupyter.widget-view+json": {
       "model_id": "",
       "version_major": 2,
       "version_minor": 0
      },
      "text/plain": [
       "Epoch 18:   0%|          | 0/54 [00:00<?, ?it/s]"
      ]
     },
     "metadata": {},
     "output_type": "display_data"
    },
    {
     "name": "stdout",
     "output_type": "stream",
     "text": [
      "训练损失：172243.8953, 训练准确率：0.4463\n"
     ]
    },
    {
     "data": {
      "application/vnd.jupyter.widget-view+json": {
       "model_id": "",
       "version_major": 2,
       "version_minor": 0
      },
      "text/plain": [
       "Epoch 19:   0%|          | 0/54 [00:00<?, ?it/s]"
      ]
     },
     "metadata": {},
     "output_type": "display_data"
    },
    {
     "name": "stdout",
     "output_type": "stream",
     "text": [
      "训练损失：165002.1720, 训练准确率：0.4665\n"
     ]
    },
    {
     "data": {
      "application/vnd.jupyter.widget-view+json": {
       "model_id": "",
       "version_major": 2,
       "version_minor": 0
      },
      "text/plain": [
       "Epoch 20:   0%|          | 0/54 [00:00<?, ?it/s]"
      ]
     },
     "metadata": {},
     "output_type": "display_data"
    },
    {
     "name": "stdout",
     "output_type": "stream",
     "text": [
      "训练损失：173622.1688, 训练准确率：0.4571\n"
     ]
    },
    {
     "data": {
      "application/vnd.jupyter.widget-view+json": {
       "model_id": "",
       "version_major": 2,
       "version_minor": 0
      },
      "text/plain": [
       "评估:   0%|          | 0/14 [00:00<?, ?it/s]"
      ]
     },
     "metadata": {},
     "output_type": "display_data"
    },
    {
     "name": "stdout",
     "output_type": "stream",
     "text": [
      "测试准确率：0.3921\n",
      "F1 分数：0.3306\n"
     ]
    }
   ],
   "source": [
    "import torch\n",
    "import torch.nn as nn\n",
    "import torch.optim as optim\n",
    "from torch.utils.data import DataLoader, TensorDataset\n",
    "from sklearn.model_selection import train_test_split\n",
    "from sklearn.metrics import accuracy_score, f1_score\n",
    "from tqdm.auto import tqdm  # 使用tqdm.auto自动选择合适的进度条库\n",
    "\n",
    "# 将清洗后的图像和标签转换为 PyTorch 张量\n",
    "X = torch.tensor(clean_images, dtype=torch.float32)  # 假设 clean_images 已经归一化\n",
    "y = torch.tensor(clean_labels, dtype=torch.long)\n",
    "\n",
    "# 将数据拆分为训练集和测试集\n",
    "X_train, X_test, y_train, y_test = train_test_split(X, y, test_size=0.2, random_state=42)\n",
    "\n",
    "# 创建训练集和测试集的 DataLoader\n",
    "train_data = TensorDataset(X_train, y_train)\n",
    "train_loader = DataLoader(train_data, batch_size=64, shuffle=True)\n",
    "test_data = TensorDataset(X_test, y_test)\n",
    "test_loader = DataLoader(test_data, batch_size=64)\n",
    "\n",
    "# 定义 SVM 模型\n",
    "class SVM(nn.Module):\n",
    "    def __init__(self):\n",
    "        super(SVM, self).__init__()\n",
    "        # 全连接层，输入尺寸为图像尺寸（224 * 224 * 3），输出尺寸为类别数量\n",
    "        self.fc = nn.Linear(224 * 224 * 3, len(class_labels))\n",
    "\n",
    "    def forward(self, x):\n",
    "        # 展平输入张量\n",
    "        x = x.view(x.size(0), -1)\n",
    "        # 前向传播\n",
    "        x = self.fc(x)\n",
    "        return x\n",
    "\n",
    "# 初始化模型、损失函数和优化器\n",
    "model = SVM()\n",
    "criterion = nn.CrossEntropyLoss()\n",
    "optimizer = optim.SGD(model.parameters(), lr=0.001)  # 调整学习率为0.001\n",
    "\n",
    "# 训练模型\n",
    "print(\"训练 SVM 分类器...\")\n",
    "for epoch in range(20):  # 增加训练轮数为20轮\n",
    "    train_loss = 0.0\n",
    "    correct = 0\n",
    "    total = 0\n",
    "    # 使用 tqdm 显示训练进度条\n",
    "    for inputs, labels in tqdm(train_loader, desc=f\"Epoch {epoch+1}\", leave=False):\n",
    "        optimizer.zero_grad()\n",
    "        outputs = model(inputs)\n",
    "        loss = criterion(outputs, labels)\n",
    "        loss.backward()\n",
    "        optimizer.step()\n",
    "        \n",
    "        # 计算损失值和准确率\n",
    "        train_loss += loss.item() * inputs.size(0)\n",
    "        _, predicted = torch.max(outputs.data, 1)\n",
    "        total += labels.size(0)\n",
    "        correct += (predicted == labels).sum().item()\n",
    "    \n",
    "    train_loss = train_loss / len(train_loader.dataset)\n",
    "    train_accuracy = correct / total\n",
    "    print(f\"训练损失：{train_loss:.4f}, 训练准确率：{train_accuracy:.4f}\")\n",
    "\n",
    "# 评估模型\n",
    "model.eval()\n",
    "with torch.no_grad():\n",
    "    correct = 0\n",
    "    total = 0\n",
    "    y_true = []\n",
    "    y_pred = []\n",
    "    # 使用 tqdm 显示评估进度条\n",
    "    for inputs, labels in tqdm(test_loader, desc=\"评估\", leave=False):\n",
    "        outputs = model(inputs)\n",
    "        _, predicted = torch.max(outputs.data, 1)\n",
    "        total += labels.size(0)\n",
    "        correct += (predicted == labels).sum().item()\n",
    "        # 收集预测结果和真实标签以计算 F1 分数\n",
    "        y_true.extend(labels.cpu().numpy())\n",
    "        y_pred.extend(predicted.cpu().numpy())\n",
    "\n",
    "accuracy = correct / total\n",
    "f1 = f1_score(y_true, y_pred, average='weighted')\n",
    "print(f\"测试准确率：{accuracy:.4f}\")\n",
    "print(f\"F1 分数：{f1:.4f}\")\n"
   ]
  },
  {
   "cell_type": "code",
   "execution_count": 35,
   "id": "573891c1",
   "metadata": {
    "scrolled": false
   },
   "outputs": [
    {
     "name": "stdout",
     "output_type": "stream",
     "text": [
      "训练 SVM 分类器...\n"
     ]
    },
    {
     "data": {
      "application/vnd.jupyter.widget-view+json": {
       "model_id": "",
       "version_major": 2,
       "version_minor": 0
      },
      "text/plain": [
       "Epoch 1:   0%|          | 0/54 [00:00<?, ?it/s]"
      ]
     },
     "metadata": {},
     "output_type": "display_data"
    },
    {
     "name": "stdout",
     "output_type": "stream",
     "text": [
      "训练损失：445230.9046, 训练准确率：0.2474\n"
     ]
    },
    {
     "data": {
      "application/vnd.jupyter.widget-view+json": {
       "model_id": "",
       "version_major": 2,
       "version_minor": 0
      },
      "text/plain": [
       "Epoch 2:   0%|          | 0/54 [00:00<?, ?it/s]"
      ]
     },
     "metadata": {},
     "output_type": "display_data"
    },
    {
     "name": "stdout",
     "output_type": "stream",
     "text": [
      "训练损失：295100.1051, 训练准确率：0.3241\n"
     ]
    },
    {
     "data": {
      "application/vnd.jupyter.widget-view+json": {
       "model_id": "",
       "version_major": 2,
       "version_minor": 0
      },
      "text/plain": [
       "Epoch 3:   0%|          | 0/54 [00:00<?, ?it/s]"
      ]
     },
     "metadata": {},
     "output_type": "display_data"
    },
    {
     "name": "stdout",
     "output_type": "stream",
     "text": [
      "训练损失：288472.1846, 训练准确率：0.3273\n"
     ]
    },
    {
     "data": {
      "application/vnd.jupyter.widget-view+json": {
       "model_id": "",
       "version_major": 2,
       "version_minor": 0
      },
      "text/plain": [
       "Epoch 4:   0%|          | 0/54 [00:00<?, ?it/s]"
      ]
     },
     "metadata": {},
     "output_type": "display_data"
    },
    {
     "name": "stdout",
     "output_type": "stream",
     "text": [
      "训练损失：253131.4570, 训练准确率：0.3617\n"
     ]
    },
    {
     "data": {
      "application/vnd.jupyter.widget-view+json": {
       "model_id": "",
       "version_major": 2,
       "version_minor": 0
      },
      "text/plain": [
       "Epoch 5:   0%|          | 0/54 [00:00<?, ?it/s]"
      ]
     },
     "metadata": {},
     "output_type": "display_data"
    },
    {
     "name": "stdout",
     "output_type": "stream",
     "text": [
      "训练损失：261809.5146, 训练准确率：0.3644\n"
     ]
    },
    {
     "data": {
      "application/vnd.jupyter.widget-view+json": {
       "model_id": "",
       "version_major": 2,
       "version_minor": 0
      },
      "text/plain": [
       "Epoch 6:   0%|          | 0/54 [00:00<?, ?it/s]"
      ]
     },
     "metadata": {},
     "output_type": "display_data"
    },
    {
     "name": "stdout",
     "output_type": "stream",
     "text": [
      "训练损失：234164.7728, 训练准确率：0.3795\n"
     ]
    },
    {
     "data": {
      "application/vnd.jupyter.widget-view+json": {
       "model_id": "",
       "version_major": 2,
       "version_minor": 0
      },
      "text/plain": [
       "Epoch 7:   0%|          | 0/54 [00:00<?, ?it/s]"
      ]
     },
     "metadata": {},
     "output_type": "display_data"
    },
    {
     "name": "stdout",
     "output_type": "stream",
     "text": [
      "训练损失：247256.9842, 训练准确率：0.3606\n"
     ]
    },
    {
     "data": {
      "application/vnd.jupyter.widget-view+json": {
       "model_id": "",
       "version_major": 2,
       "version_minor": 0
      },
      "text/plain": [
       "Epoch 8:   0%|          | 0/54 [00:00<?, ?it/s]"
      ]
     },
     "metadata": {},
     "output_type": "display_data"
    },
    {
     "name": "stdout",
     "output_type": "stream",
     "text": [
      "训练损失：201703.8687, 训练准确率：0.3994\n"
     ]
    },
    {
     "data": {
      "application/vnd.jupyter.widget-view+json": {
       "model_id": "",
       "version_major": 2,
       "version_minor": 0
      },
      "text/plain": [
       "Epoch 9:   0%|          | 0/54 [00:00<?, ?it/s]"
      ]
     },
     "metadata": {},
     "output_type": "display_data"
    },
    {
     "name": "stdout",
     "output_type": "stream",
     "text": [
      "训练损失：215059.4702, 训练准确率：0.3961\n"
     ]
    },
    {
     "data": {
      "application/vnd.jupyter.widget-view+json": {
       "model_id": "",
       "version_major": 2,
       "version_minor": 0
      },
      "text/plain": [
       "Epoch 10:   0%|          | 0/54 [00:00<?, ?it/s]"
      ]
     },
     "metadata": {},
     "output_type": "display_data"
    },
    {
     "name": "stdout",
     "output_type": "stream",
     "text": [
      "训练损失：183031.5567, 训练准确率：0.4332\n"
     ]
    },
    {
     "data": {
      "application/vnd.jupyter.widget-view+json": {
       "model_id": "",
       "version_major": 2,
       "version_minor": 0
      },
      "text/plain": [
       "Epoch 11:   0%|          | 0/54 [00:00<?, ?it/s]"
      ]
     },
     "metadata": {},
     "output_type": "display_data"
    },
    {
     "name": "stdout",
     "output_type": "stream",
     "text": [
      "训练损失：196788.3481, 训练准确率：0.4107\n"
     ]
    },
    {
     "data": {
      "application/vnd.jupyter.widget-view+json": {
       "model_id": "",
       "version_major": 2,
       "version_minor": 0
      },
      "text/plain": [
       "Epoch 12:   0%|          | 0/54 [00:00<?, ?it/s]"
      ]
     },
     "metadata": {},
     "output_type": "display_data"
    },
    {
     "name": "stdout",
     "output_type": "stream",
     "text": [
      "训练损失：222370.7265, 训练准确率：0.3959\n"
     ]
    },
    {
     "data": {
      "application/vnd.jupyter.widget-view+json": {
       "model_id": "",
       "version_major": 2,
       "version_minor": 0
      },
      "text/plain": [
       "Epoch 13:   0%|          | 0/54 [00:00<?, ?it/s]"
      ]
     },
     "metadata": {},
     "output_type": "display_data"
    },
    {
     "name": "stdout",
     "output_type": "stream",
     "text": [
      "训练损失：173280.7495, 训练准确率：0.4489\n"
     ]
    },
    {
     "data": {
      "application/vnd.jupyter.widget-view+json": {
       "model_id": "",
       "version_major": 2,
       "version_minor": 0
      },
      "text/plain": [
       "Epoch 14:   0%|          | 0/54 [00:00<?, ?it/s]"
      ]
     },
     "metadata": {},
     "output_type": "display_data"
    },
    {
     "name": "stdout",
     "output_type": "stream",
     "text": [
      "训练损失：175345.6695, 训练准确率：0.4373\n"
     ]
    },
    {
     "data": {
      "application/vnd.jupyter.widget-view+json": {
       "model_id": "",
       "version_major": 2,
       "version_minor": 0
      },
      "text/plain": [
       "Epoch 15:   0%|          | 0/54 [00:00<?, ?it/s]"
      ]
     },
     "metadata": {},
     "output_type": "display_data"
    },
    {
     "name": "stdout",
     "output_type": "stream",
     "text": [
      "训练损失：200189.4242, 训练准确率：0.4247\n"
     ]
    },
    {
     "data": {
      "application/vnd.jupyter.widget-view+json": {
       "model_id": "",
       "version_major": 2,
       "version_minor": 0
      },
      "text/plain": [
       "Epoch 16:   0%|          | 0/54 [00:00<?, ?it/s]"
      ]
     },
     "metadata": {},
     "output_type": "display_data"
    },
    {
     "name": "stdout",
     "output_type": "stream",
     "text": [
      "训练损失：177244.2330, 训练准确率：0.4344\n"
     ]
    },
    {
     "data": {
      "application/vnd.jupyter.widget-view+json": {
       "model_id": "",
       "version_major": 2,
       "version_minor": 0
      },
      "text/plain": [
       "Epoch 17:   0%|          | 0/54 [00:00<?, ?it/s]"
      ]
     },
     "metadata": {},
     "output_type": "display_data"
    },
    {
     "name": "stdout",
     "output_type": "stream",
     "text": [
      "训练损失：210382.4033, 训练准确率：0.4230\n"
     ]
    },
    {
     "data": {
      "application/vnd.jupyter.widget-view+json": {
       "model_id": "",
       "version_major": 2,
       "version_minor": 0
      },
      "text/plain": [
       "Epoch 18:   0%|          | 0/54 [00:00<?, ?it/s]"
      ]
     },
     "metadata": {},
     "output_type": "display_data"
    },
    {
     "name": "stdout",
     "output_type": "stream",
     "text": [
      "训练损失：178345.7484, 训练准确率：0.4437\n"
     ]
    },
    {
     "data": {
      "application/vnd.jupyter.widget-view+json": {
       "model_id": "",
       "version_major": 2,
       "version_minor": 0
      },
      "text/plain": [
       "Epoch 19:   0%|          | 0/54 [00:00<?, ?it/s]"
      ]
     },
     "metadata": {},
     "output_type": "display_data"
    },
    {
     "name": "stdout",
     "output_type": "stream",
     "text": [
      "训练损失：198842.6108, 训练准确率：0.4154\n"
     ]
    },
    {
     "data": {
      "application/vnd.jupyter.widget-view+json": {
       "model_id": "",
       "version_major": 2,
       "version_minor": 0
      },
      "text/plain": [
       "Epoch 20:   0%|          | 0/54 [00:00<?, ?it/s]"
      ]
     },
     "metadata": {},
     "output_type": "display_data"
    },
    {
     "name": "stdout",
     "output_type": "stream",
     "text": [
      "训练损失：176356.4261, 训练准确率：0.4434\n"
     ]
    },
    {
     "data": {
      "application/vnd.jupyter.widget-view+json": {
       "model_id": "",
       "version_major": 2,
       "version_minor": 0
      },
      "text/plain": [
       "评估:   0%|          | 0/14 [00:00<?, ?it/s]"
      ]
     },
     "metadata": {},
     "output_type": "display_data"
    },
    {
     "name": "stdout",
     "output_type": "stream",
     "text": [
      "              precision    recall  f1-score   support\n",
      "\n",
      "           0       0.37      0.61      0.46       166\n",
      "           1       0.75      0.01      0.03       219\n",
      "           2       0.60      0.34      0.43       152\n",
      "           3       0.27      0.96      0.42       135\n",
      "           4       0.67      0.04      0.08       185\n",
      "\n",
      "    accuracy                           0.34       857\n",
      "   macro avg       0.53      0.39      0.28       857\n",
      "weighted avg       0.56      0.34      0.26       857\n",
      "\n"
     ]
    }
   ],
   "source": [
    "import torch\n",
    "import torch.nn as nn\n",
    "import torch.optim as optim\n",
    "from torch.utils.data import DataLoader, TensorDataset\n",
    "from sklearn.model_selection import train_test_split\n",
    "from sklearn.metrics import classification_report\n",
    "from tqdm.auto import tqdm  # 使用tqdm.auto自动选择合适的进度条库\n",
    "\n",
    "# 将清洗后的图像和标签转换为 PyTorch 张量\n",
    "X = torch.tensor(clean_images, dtype=torch.float32)  # 假设 clean_images 已经归一化\n",
    "y = torch.tensor(clean_labels, dtype=torch.long)\n",
    "\n",
    "# 将数据拆分为训练集和测试集\n",
    "X_train, X_test, y_train, y_test = train_test_split(X, y, test_size=0.2, random_state=42)\n",
    "\n",
    "# 创建训练集和测试集的 DataLoader\n",
    "train_data = TensorDataset(X_train, y_train)\n",
    "train_loader = DataLoader(train_data, batch_size=64, shuffle=True)\n",
    "test_data = TensorDataset(X_test, y_test)\n",
    "test_loader = DataLoader(test_data, batch_size=64)\n",
    "\n",
    "# 定义 SVM 模型\n",
    "class SVM(nn.Module):\n",
    "    def __init__(self):\n",
    "        super(SVM, self).__init__()\n",
    "        # 全连接层，输入尺寸为图像尺寸（224 * 224 * 3），输出尺寸为类别数量\n",
    "        self.fc = nn.Linear(224 * 224 * 3, len(class_labels))\n",
    "\n",
    "    def forward(self, x):\n",
    "        # 展平输入张量\n",
    "        x = x.view(x.size(0), -1)\n",
    "        # 前向传播\n",
    "        x = self.fc(x)\n",
    "        return x\n",
    "\n",
    "# 初始化模型、损失函数和优化器\n",
    "model = SVM()\n",
    "criterion = nn.CrossEntropyLoss()\n",
    "optimizer = optim.SGD(model.parameters(), lr=0.001)  # 调整学习率为0.001\n",
    "\n",
    "# 训练模型\n",
    "print(\"训练 SVM 分类器...\")\n",
    "for epoch in range(20):  # 增加训练轮数为20轮\n",
    "    train_loss = 0.0\n",
    "    correct = 0\n",
    "    total = 0\n",
    "    # 使用 tqdm 显示训练进度条\n",
    "    for inputs, labels in tqdm(train_loader, desc=f\"Epoch {epoch+1}\", leave=False):\n",
    "        optimizer.zero_grad()\n",
    "        outputs = model(inputs)\n",
    "        loss = criterion(outputs, labels)\n",
    "        loss.backward()\n",
    "        optimizer.step()\n",
    "        \n",
    "        # 计算损失值和准确率\n",
    "        train_loss += loss.item() * inputs.size(0)\n",
    "        _, predicted = torch.max(outputs.data, 1)\n",
    "        total += labels.size(0)\n",
    "        correct += (predicted == labels).sum().item()\n",
    "    \n",
    "    train_loss = train_loss / len(train_loader.dataset)\n",
    "    train_accuracy = correct / total\n",
    "    print(f\"训练损失：{train_loss:.4f}, 训练准确率：{train_accuracy:.4f}\")\n",
    "\n",
    "# 评估模型\n",
    "model.eval()\n",
    "true_labels = []\n",
    "predicted_labels = []\n",
    "with torch.no_grad():\n",
    "    # 使用 tqdm 显示评估进度条\n",
    "    for inputs, labels in tqdm(test_loader, desc=\"评估\", leave=False):\n",
    "        outputs = model(inputs)\n",
    "        _, predicted = torch.max(outputs.data, 1)\n",
    "        true_labels.extend(labels.numpy())\n",
    "        predicted_labels.extend(predicted.numpy())\n",
    "\n",
    "report = classification_report(true_labels, predicted_labels)\n",
    "print(report)\n"
   ]
  },
  {
   "cell_type": "markdown",
   "id": "d6191d88",
   "metadata": {},
   "source": [
    "# SVM"
   ]
  },
  {
   "cell_type": "code",
   "execution_count": 36,
   "id": "53357771",
   "metadata": {},
   "outputs": [
    {
     "name": "stdout",
     "output_type": "stream",
     "text": [
      "训练 SVM 分类器...\n"
     ]
    },
    {
     "data": {
      "application/vnd.jupyter.widget-view+json": {
       "model_id": "",
       "version_major": 2,
       "version_minor": 0
      },
      "text/plain": [
       "Epoch 1:   0%|          | 0/54 [00:00<?, ?it/s]"
      ]
     },
     "metadata": {},
     "output_type": "display_data"
    },
    {
     "name": "stdout",
     "output_type": "stream",
     "text": [
      "训练损失：454035.9649, 训练准确率：0.3186\n"
     ]
    },
    {
     "data": {
      "application/vnd.jupyter.widget-view+json": {
       "model_id": "",
       "version_major": 2,
       "version_minor": 0
      },
      "text/plain": [
       "Epoch 2:   0%|          | 0/54 [00:00<?, ?it/s]"
      ]
     },
     "metadata": {},
     "output_type": "display_data"
    },
    {
     "name": "stdout",
     "output_type": "stream",
     "text": [
      "训练损失：420418.1015, 训练准确率：0.3731\n"
     ]
    },
    {
     "data": {
      "application/vnd.jupyter.widget-view+json": {
       "model_id": "",
       "version_major": 2,
       "version_minor": 0
      },
      "text/plain": [
       "Epoch 3:   0%|          | 0/54 [00:00<?, ?it/s]"
      ]
     },
     "metadata": {},
     "output_type": "display_data"
    },
    {
     "name": "stdout",
     "output_type": "stream",
     "text": [
      "训练损失：350699.2171, 训练准确率：0.4262\n"
     ]
    },
    {
     "data": {
      "application/vnd.jupyter.widget-view+json": {
       "model_id": "",
       "version_major": 2,
       "version_minor": 0
      },
      "text/plain": [
       "Epoch 4:   0%|          | 0/54 [00:00<?, ?it/s]"
      ]
     },
     "metadata": {},
     "output_type": "display_data"
    },
    {
     "name": "stdout",
     "output_type": "stream",
     "text": [
      "训练损失：301445.3435, 训练准确率：0.4282\n"
     ]
    },
    {
     "data": {
      "application/vnd.jupyter.widget-view+json": {
       "model_id": "",
       "version_major": 2,
       "version_minor": 0
      },
      "text/plain": [
       "Epoch 5:   0%|          | 0/54 [00:00<?, ?it/s]"
      ]
     },
     "metadata": {},
     "output_type": "display_data"
    },
    {
     "name": "stdout",
     "output_type": "stream",
     "text": [
      "训练损失：278219.9025, 训练准确率：0.4726\n"
     ]
    },
    {
     "data": {
      "application/vnd.jupyter.widget-view+json": {
       "model_id": "",
       "version_major": 2,
       "version_minor": 0
      },
      "text/plain": [
       "Epoch 6:   0%|          | 0/54 [00:00<?, ?it/s]"
      ]
     },
     "metadata": {},
     "output_type": "display_data"
    },
    {
     "name": "stdout",
     "output_type": "stream",
     "text": [
      "训练损失：206928.8125, 训练准确率：0.5006\n"
     ]
    },
    {
     "data": {
      "application/vnd.jupyter.widget-view+json": {
       "model_id": "",
       "version_major": 2,
       "version_minor": 0
      },
      "text/plain": [
       "Epoch 7:   0%|          | 0/54 [00:00<?, ?it/s]"
      ]
     },
     "metadata": {},
     "output_type": "display_data"
    },
    {
     "name": "stdout",
     "output_type": "stream",
     "text": [
      "训练损失：279180.5127, 训练准确率：0.4877\n"
     ]
    },
    {
     "data": {
      "application/vnd.jupyter.widget-view+json": {
       "model_id": "",
       "version_major": 2,
       "version_minor": 0
      },
      "text/plain": [
       "Epoch 8:   0%|          | 0/54 [00:00<?, ?it/s]"
      ]
     },
     "metadata": {},
     "output_type": "display_data"
    },
    {
     "name": "stdout",
     "output_type": "stream",
     "text": [
      "训练损失：276084.1200, 训练准确率：0.4918\n"
     ]
    },
    {
     "data": {
      "application/vnd.jupyter.widget-view+json": {
       "model_id": "",
       "version_major": 2,
       "version_minor": 0
      },
      "text/plain": [
       "Epoch 9:   0%|          | 0/54 [00:00<?, ?it/s]"
      ]
     },
     "metadata": {},
     "output_type": "display_data"
    },
    {
     "name": "stdout",
     "output_type": "stream",
     "text": [
      "训练损失：209805.1162, 训练准确率：0.5280\n"
     ]
    },
    {
     "data": {
      "application/vnd.jupyter.widget-view+json": {
       "model_id": "",
       "version_major": 2,
       "version_minor": 0
      },
      "text/plain": [
       "Epoch 10:   0%|          | 0/54 [00:00<?, ?it/s]"
      ]
     },
     "metadata": {},
     "output_type": "display_data"
    },
    {
     "name": "stdout",
     "output_type": "stream",
     "text": [
      "训练损失：157398.8615, 训练准确率：0.5852\n"
     ]
    },
    {
     "data": {
      "application/vnd.jupyter.widget-view+json": {
       "model_id": "",
       "version_major": 2,
       "version_minor": 0
      },
      "text/plain": [
       "评估:   0%|          | 0/14 [00:00<?, ?it/s]"
      ]
     },
     "metadata": {},
     "output_type": "display_data"
    },
    {
     "name": "stdout",
     "output_type": "stream",
     "text": [
      "F1 分数：0.2872\n"
     ]
    }
   ],
   "source": [
    "import torch\n",
    "import torch.nn as nn\n",
    "import torch.optim as optim\n",
    "from torch.utils.data import DataLoader, TensorDataset\n",
    "from sklearn.model_selection import train_test_split\n",
    "from sklearn.metrics import accuracy_score, f1_score\n",
    "from torchvision import transforms\n",
    "from tqdm.auto import tqdm\n",
    "\n",
    "# 数据增强\n",
    "train_transforms = transforms.Compose([\n",
    "    transforms.RandomHorizontalFlip(),\n",
    "    transforms.RandomRotation(20),\n",
    "    transforms.RandomResizedCrop(224, scale=(0.8, 1.0)),\n",
    "    transforms.ToTensor(),\n",
    "])\n",
    "\n",
    "# 创建训练集和测试集的 DataLoader\n",
    "train_data = TensorDataset(X_train, y_train)\n",
    "train_loader = DataLoader(train_data, batch_size=64, shuffle=True)\n",
    "test_data = TensorDataset(X_test, y_test)\n",
    "test_loader = DataLoader(test_data, batch_size=64)\n",
    "\n",
    "# 定义 SVM 模型\n",
    "class SVM(nn.Module):\n",
    "    def __init__(self):\n",
    "        super(SVM, self).__init__()\n",
    "        self.fc = nn.Linear(224 * 224 * 3, len(class_labels))\n",
    "\n",
    "    def forward(self, x):\n",
    "        x = x.view(x.size(0), -1)\n",
    "        x = self.fc(x)\n",
    "        return x\n",
    "\n",
    "# 初始化模型、损失函数和优化器\n",
    "model = SVM()\n",
    "criterion = nn.CrossEntropyLoss()\n",
    "optimizer = optim.SGD(model.parameters(), lr=0.001, momentum=0.9, weight_decay=1e-5)\n",
    "\n",
    "# 训练模型\n",
    "print(\"训练 SVM 分类器...\")\n",
    "for epoch in range(10):  # 调整需要的训练轮数\n",
    "    train_loss = 0.0\n",
    "    correct = 0\n",
    "    total = 0\n",
    "    for inputs, labels in tqdm(train_loader, desc=f\"Epoch {epoch+1}\", leave=False):\n",
    "        optimizer.zero_grad()\n",
    "        outputs = model(inputs)\n",
    "        loss = criterion(outputs, labels)\n",
    "        loss.backward()\n",
    "        optimizer.step()\n",
    "        \n",
    "        train_loss += loss.item() * inputs.size(0)\n",
    "        _, predicted = torch.max(outputs.data, 1)\n",
    "        total += labels.size(0)\n",
    "        correct += (predicted == labels).sum().item()\n",
    "    \n",
    "    train_loss = train_loss / len(train_loader.dataset)\n",
    "    train_accuracy = correct / total\n",
    "    print(f\"训练损失：{train_loss:.4f}, 训练准确率：{train_accuracy:.4f}\")\n",
    "\n",
    "# 评估模型\n",
    "model.eval()\n",
    "true_labels = []\n",
    "predicted_labels = []\n",
    "with torch.no_grad():\n",
    "    for inputs, labels in tqdm(test_loader, desc=\"评估\", leave=False):\n",
    "        outputs = model(inputs)\n",
    "        _, predicted = torch.max(outputs.data, 1)\n",
    "        true_labels.extend(labels.numpy())\n",
    "        predicted_labels.extend(predicted.numpy())\n",
    "\n",
    "# 计算 F1 分数\n",
    "f1 = f1_score(true_labels, predicted_labels, average='macro')\n",
    "print(f\"F1 分数：{f1:.4f}\")\n"
   ]
  },
  {
   "cell_type": "code",
   "execution_count": 48,
   "id": "078471ae",
   "metadata": {},
   "outputs": [
    {
     "name": "stdout",
     "output_type": "stream",
     "text": [
      "训练 SVM 模型...\n",
      "测试准确率：0.4212\n",
      "F1 分数：0.4192\n"
     ]
    }
   ],
   "source": [
    "import torch\n",
    "from torch.utils.data import DataLoader, TensorDataset\n",
    "from sklearn.model_selection import train_test_split\n",
    "from sklearn.svm import SVC\n",
    "from sklearn.metrics import accuracy_score, f1_score\n",
    "from tqdm.auto import tqdm\n",
    "import numpy as np\n",
    "\n",
    "# 将清洗后的图像和标签转换为 numpy 数组\n",
    "X = np.array(clean_images)  # 假设 clean_images 已经归一化\n",
    "y = np.array(clean_labels)\n",
    "\n",
    "# 将数据拆分为训练集和测试集\n",
    "X_train, X_test, y_train, y_test = train_test_split(X, y, test_size=0.2, random_state=42)\n",
    "\n",
    "# 将图像数据展平\n",
    "X_train_flat = X_train.reshape(X_train.shape[0], -1)\n",
    "X_test_flat = X_test.reshape(X_test.shape[0], -1)\n",
    "\n",
    "# 定义 SVM 模型\n",
    "svm = SVC(kernel='linear', C=1.0)  # 选择线性核，可以根据需要调整超参数 C\n",
    "\n",
    "# 训练模型\n",
    "print(\"训练 SVM 模型...\")\n",
    "svm.fit(X_train_flat, y_train)\n",
    "\n",
    "# 评估模型\n",
    "y_pred = svm.predict(X_test_flat)\n",
    "accuracy = accuracy_score(y_test, y_pred)\n",
    "f1 = f1_score(y_test, y_pred, average='weighted')\n",
    "print(f\"测试准确率：{accuracy:.4f}\")\n",
    "print(f\"F1 分数：{f1:.4f}\")\n"
   ]
  },
  {
   "cell_type": "markdown",
   "id": "2d193953",
   "metadata": {},
   "source": [
    "# 多层感知器（MLP）"
   ]
  },
  {
   "cell_type": "code",
   "execution_count": 37,
   "id": "85855d1b",
   "metadata": {},
   "outputs": [
    {
     "name": "stdout",
     "output_type": "stream",
     "text": [
      "训练 MLP 模型...\n"
     ]
    },
    {
     "data": {
      "application/vnd.jupyter.widget-view+json": {
       "model_id": "",
       "version_major": 2,
       "version_minor": 0
      },
      "text/plain": [
       "Epoch 1:   0%|          | 0/54 [00:00<?, ?it/s]"
      ]
     },
     "metadata": {},
     "output_type": "display_data"
    },
    {
     "name": "stdout",
     "output_type": "stream",
     "text": [
      "训练损失：2924.4991, 训练准确率：0.2800\n"
     ]
    },
    {
     "data": {
      "application/vnd.jupyter.widget-view+json": {
       "model_id": "",
       "version_major": 2,
       "version_minor": 0
      },
      "text/plain": [
       "Epoch 2:   0%|          | 0/54 [00:00<?, ?it/s]"
      ]
     },
     "metadata": {},
     "output_type": "display_data"
    },
    {
     "name": "stdout",
     "output_type": "stream",
     "text": [
      "训练损失：74.9915, 训练准确率：0.4049\n"
     ]
    },
    {
     "data": {
      "application/vnd.jupyter.widget-view+json": {
       "model_id": "",
       "version_major": 2,
       "version_minor": 0
      },
      "text/plain": [
       "Epoch 3:   0%|          | 0/54 [00:00<?, ?it/s]"
      ]
     },
     "metadata": {},
     "output_type": "display_data"
    },
    {
     "name": "stdout",
     "output_type": "stream",
     "text": [
      "训练损失：15.1304, 训练准确率：0.2771\n"
     ]
    },
    {
     "data": {
      "application/vnd.jupyter.widget-view+json": {
       "model_id": "",
       "version_major": 2,
       "version_minor": 0
      },
      "text/plain": [
       "Epoch 4:   0%|          | 0/54 [00:00<?, ?it/s]"
      ]
     },
     "metadata": {},
     "output_type": "display_data"
    },
    {
     "name": "stdout",
     "output_type": "stream",
     "text": [
      "训练损失：1.6142, 训练准确率：0.2392\n"
     ]
    },
    {
     "data": {
      "application/vnd.jupyter.widget-view+json": {
       "model_id": "",
       "version_major": 2,
       "version_minor": 0
      },
      "text/plain": [
       "Epoch 5:   0%|          | 0/54 [00:00<?, ?it/s]"
      ]
     },
     "metadata": {},
     "output_type": "display_data"
    },
    {
     "name": "stdout",
     "output_type": "stream",
     "text": [
      "训练损失：1.6096, 训练准确率：0.2392\n"
     ]
    },
    {
     "data": {
      "application/vnd.jupyter.widget-view+json": {
       "model_id": "",
       "version_major": 2,
       "version_minor": 0
      },
      "text/plain": [
       "Epoch 6:   0%|          | 0/54 [00:00<?, ?it/s]"
      ]
     },
     "metadata": {},
     "output_type": "display_data"
    },
    {
     "name": "stdout",
     "output_type": "stream",
     "text": [
      "训练损失：1.6075, 训练准确率：0.2392\n"
     ]
    },
    {
     "data": {
      "application/vnd.jupyter.widget-view+json": {
       "model_id": "",
       "version_major": 2,
       "version_minor": 0
      },
      "text/plain": [
       "Epoch 7:   0%|          | 0/54 [00:00<?, ?it/s]"
      ]
     },
     "metadata": {},
     "output_type": "display_data"
    },
    {
     "name": "stdout",
     "output_type": "stream",
     "text": [
      "训练损失：1.6033, 训练准确率：0.2392\n"
     ]
    },
    {
     "data": {
      "application/vnd.jupyter.widget-view+json": {
       "model_id": "",
       "version_major": 2,
       "version_minor": 0
      },
      "text/plain": [
       "Epoch 8:   0%|          | 0/54 [00:00<?, ?it/s]"
      ]
     },
     "metadata": {},
     "output_type": "display_data"
    },
    {
     "name": "stdout",
     "output_type": "stream",
     "text": [
      "训练损失：1.6018, 训练准确率：0.2395\n"
     ]
    },
    {
     "data": {
      "application/vnd.jupyter.widget-view+json": {
       "model_id": "",
       "version_major": 2,
       "version_minor": 0
      },
      "text/plain": [
       "Epoch 9:   0%|          | 0/54 [00:00<?, ?it/s]"
      ]
     },
     "metadata": {},
     "output_type": "display_data"
    },
    {
     "name": "stdout",
     "output_type": "stream",
     "text": [
      "训练损失：1.6007, 训练准确率：0.2392\n"
     ]
    },
    {
     "data": {
      "application/vnd.jupyter.widget-view+json": {
       "model_id": "",
       "version_major": 2,
       "version_minor": 0
      },
      "text/plain": [
       "Epoch 10:   0%|          | 0/54 [00:00<?, ?it/s]"
      ]
     },
     "metadata": {},
     "output_type": "display_data"
    },
    {
     "name": "stdout",
     "output_type": "stream",
     "text": [
      "训练损失：1.6000, 训练准确率：0.2395\n"
     ]
    },
    {
     "data": {
      "application/vnd.jupyter.widget-view+json": {
       "model_id": "",
       "version_major": 2,
       "version_minor": 0
      },
      "text/plain": [
       "评估:   0%|          | 0/14 [00:00<?, ?it/s]"
      ]
     },
     "metadata": {},
     "output_type": "display_data"
    },
    {
     "name": "stdout",
     "output_type": "stream",
     "text": [
      "测试准确率：0.2567\n",
      "F1 分数：0.1064\n"
     ]
    }
   ],
   "source": [
    "import torch\n",
    "import torch.nn as nn\n",
    "import torch.optim as optim\n",
    "from torch.utils.data import DataLoader, TensorDataset\n",
    "from sklearn.model_selection import train_test_split\n",
    "from sklearn.metrics import accuracy_score, f1_score\n",
    "from tqdm.auto import tqdm\n",
    "\n",
    "# 将清洗后的图像和标签转换为 PyTorch 张量\n",
    "X = torch.tensor(clean_images, dtype=torch.float32)  # 假设 clean_images 已经归一化\n",
    "y = torch.tensor(clean_labels, dtype=torch.long)\n",
    "\n",
    "# 将数据拆分为训练集和测试集\n",
    "X_train, X_test, y_train, y_test = train_test_split(X, y, test_size=0.2, random_state=42)\n",
    "\n",
    "# 创建训练集和测试集的 DataLoader\n",
    "train_data = TensorDataset(X_train, y_train)\n",
    "train_loader = DataLoader(train_data, batch_size=64, shuffle=True)\n",
    "test_data = TensorDataset(X_test, y_test)\n",
    "test_loader = DataLoader(test_data, batch_size=64)\n",
    "\n",
    "# 定义多层感知器模型\n",
    "class MLP(nn.Module):\n",
    "    def __init__(self, input_size, hidden_size, num_classes):\n",
    "        super(MLP, self).__init__()\n",
    "        self.fc1 = nn.Linear(input_size, hidden_size)\n",
    "        self.relu = nn.ReLU()\n",
    "        self.fc2 = nn.Linear(hidden_size, num_classes)\n",
    "    \n",
    "    def forward(self, x):\n",
    "        x = self.fc1(x)\n",
    "        x = self.relu(x)\n",
    "        x = self.fc2(x)\n",
    "        return x\n",
    "\n",
    "# 初始化模型、损失函数和优化器\n",
    "model = MLP(input_size=224 * 224 * 3, hidden_size=128, num_classes=len(class_labels))\n",
    "criterion = nn.CrossEntropyLoss()\n",
    "optimizer = optim.Adam(model.parameters(), lr=0.001)\n",
    "\n",
    "# 训练模型\n",
    "print(\"训练 MLP 模型...\")\n",
    "for epoch in range(10):  # 调整需要的训练轮数\n",
    "    train_loss = 0.0\n",
    "    correct = 0\n",
    "    total = 0\n",
    "    for inputs, labels in tqdm(train_loader, desc=f\"Epoch {epoch+1}\", leave=False):\n",
    "        optimizer.zero_grad()\n",
    "        outputs = model(inputs.view(inputs.size(0), -1))  # 展平输入张量\n",
    "        loss = criterion(outputs, labels)\n",
    "        loss.backward()\n",
    "        optimizer.step()\n",
    "        \n",
    "        # 计算损失值和准确率\n",
    "        train_loss += loss.item() * inputs.size(0)\n",
    "        _, predicted = torch.max(outputs.data, 1)\n",
    "        total += labels.size(0)\n",
    "        correct += (predicted == labels).sum().item()\n",
    "    \n",
    "    train_loss = train_loss / len(train_loader.dataset)\n",
    "    train_accuracy = correct / total\n",
    "    print(f\"训练损失：{train_loss:.4f}, 训练准确率：{train_accuracy:.4f}\")\n",
    "\n",
    "# 评估模型\n",
    "model.eval()\n",
    "with torch.no_grad():\n",
    "    correct = 0\n",
    "    total = 0\n",
    "    y_true = []\n",
    "    y_pred = []\n",
    "    for inputs, labels in tqdm(test_loader, desc=\"评估\", leave=False):\n",
    "        outputs = model(inputs.view(inputs.size(0), -1))\n",
    "        _, predicted = torch.max(outputs.data, 1)\n",
    "        total += labels.size(0)\n",
    "        correct += (predicted == labels).sum().item()\n",
    "        y_true.extend(labels.cpu().numpy())\n",
    "        y_pred.extend(predicted.cpu().numpy())\n",
    "\n",
    "accuracy = correct / total\n",
    "f1 = f1_score(y_true, y_pred, average='weighted')\n",
    "print(f\"测试准确率：{accuracy:.4f}\")\n",
    "print(f\"F1 分数：{f1:.4f}\")\n"
   ]
  },
  {
   "cell_type": "code",
   "execution_count": 38,
   "id": "d1b95050",
   "metadata": {},
   "outputs": [
    {
     "name": "stdout",
     "output_type": "stream",
     "text": [
      "训练 MLP 模型...\n"
     ]
    },
    {
     "data": {
      "application/vnd.jupyter.widget-view+json": {
       "model_id": "",
       "version_major": 2,
       "version_minor": 0
      },
      "text/plain": [
       "Epoch 1:   0%|          | 0/54 [00:00<?, ?it/s]"
      ]
     },
     "metadata": {},
     "output_type": "display_data"
    },
    {
     "name": "stdout",
     "output_type": "stream",
     "text": [
      "训练损失：444.1050, 训练准确率：0.3092\n"
     ]
    },
    {
     "data": {
      "application/vnd.jupyter.widget-view+json": {
       "model_id": "",
       "version_major": 2,
       "version_minor": 0
      },
      "text/plain": [
       "Epoch 2:   0%|          | 0/54 [00:00<?, ?it/s]"
      ]
     },
     "metadata": {},
     "output_type": "display_data"
    },
    {
     "name": "stdout",
     "output_type": "stream",
     "text": [
      "训练损失：58.4103, 训练准确率：0.3941\n"
     ]
    },
    {
     "data": {
      "application/vnd.jupyter.widget-view+json": {
       "model_id": "",
       "version_major": 2,
       "version_minor": 0
      },
      "text/plain": [
       "Epoch 3:   0%|          | 0/54 [00:00<?, ?it/s]"
      ]
     },
     "metadata": {},
     "output_type": "display_data"
    },
    {
     "name": "stdout",
     "output_type": "stream",
     "text": [
      "训练损失：43.1599, 训练准确率：0.4291\n"
     ]
    },
    {
     "data": {
      "application/vnd.jupyter.widget-view+json": {
       "model_id": "",
       "version_major": 2,
       "version_minor": 0
      },
      "text/plain": [
       "Epoch 4:   0%|          | 0/54 [00:00<?, ?it/s]"
      ]
     },
     "metadata": {},
     "output_type": "display_data"
    },
    {
     "name": "stdout",
     "output_type": "stream",
     "text": [
      "训练损失：48.8859, 训练准确率：0.4209\n"
     ]
    },
    {
     "data": {
      "application/vnd.jupyter.widget-view+json": {
       "model_id": "",
       "version_major": 2,
       "version_minor": 0
      },
      "text/plain": [
       "Epoch 5:   0%|          | 0/54 [00:00<?, ?it/s]"
      ]
     },
     "metadata": {},
     "output_type": "display_data"
    },
    {
     "name": "stdout",
     "output_type": "stream",
     "text": [
      "训练损失：29.1635, 训练准确率：0.4904\n"
     ]
    },
    {
     "data": {
      "application/vnd.jupyter.widget-view+json": {
       "model_id": "",
       "version_major": 2,
       "version_minor": 0
      },
      "text/plain": [
       "Epoch 6:   0%|          | 0/54 [00:00<?, ?it/s]"
      ]
     },
     "metadata": {},
     "output_type": "display_data"
    },
    {
     "name": "stdout",
     "output_type": "stream",
     "text": [
      "训练损失：29.2301, 训练准确率：0.4743\n"
     ]
    },
    {
     "data": {
      "application/vnd.jupyter.widget-view+json": {
       "model_id": "",
       "version_major": 2,
       "version_minor": 0
      },
      "text/plain": [
       "Epoch 7:   0%|          | 0/54 [00:00<?, ?it/s]"
      ]
     },
     "metadata": {},
     "output_type": "display_data"
    },
    {
     "name": "stdout",
     "output_type": "stream",
     "text": [
      "训练损失：27.5989, 训练准确率：0.5175\n"
     ]
    },
    {
     "data": {
      "application/vnd.jupyter.widget-view+json": {
       "model_id": "",
       "version_major": 2,
       "version_minor": 0
      },
      "text/plain": [
       "Epoch 8:   0%|          | 0/54 [00:00<?, ?it/s]"
      ]
     },
     "metadata": {},
     "output_type": "display_data"
    },
    {
     "name": "stdout",
     "output_type": "stream",
     "text": [
      "训练损失：29.3232, 训练准确率：0.4907\n"
     ]
    },
    {
     "data": {
      "application/vnd.jupyter.widget-view+json": {
       "model_id": "",
       "version_major": 2,
       "version_minor": 0
      },
      "text/plain": [
       "Epoch 9:   0%|          | 0/54 [00:00<?, ?it/s]"
      ]
     },
     "metadata": {},
     "output_type": "display_data"
    },
    {
     "name": "stdout",
     "output_type": "stream",
     "text": [
      "训练损失：33.3249, 训练准确率：0.5137\n"
     ]
    },
    {
     "data": {
      "application/vnd.jupyter.widget-view+json": {
       "model_id": "",
       "version_major": 2,
       "version_minor": 0
      },
      "text/plain": [
       "Epoch 10:   0%|          | 0/54 [00:00<?, ?it/s]"
      ]
     },
     "metadata": {},
     "output_type": "display_data"
    },
    {
     "name": "stdout",
     "output_type": "stream",
     "text": [
      "训练损失：18.7256, 训练准确率：0.5741\n"
     ]
    },
    {
     "data": {
      "application/vnd.jupyter.widget-view+json": {
       "model_id": "",
       "version_major": 2,
       "version_minor": 0
      },
      "text/plain": [
       "评估:   0%|          | 0/14 [00:00<?, ?it/s]"
      ]
     },
     "metadata": {},
     "output_type": "display_data"
    },
    {
     "name": "stdout",
     "output_type": "stream",
     "text": [
      "测试准确率：0.3956\n",
      "F1 分数：0.3112\n"
     ]
    }
   ],
   "source": [
    "# 我们增加了隐藏层的大小（hidden_size=256），将学习率调整为0.0001，并继续使用Adam优化器。\n",
    "import torch\n",
    "import torch.nn as nn\n",
    "import torch.optim as optim\n",
    "from torch.utils.data import DataLoader, TensorDataset\n",
    "from sklearn.model_selection import train_test_split\n",
    "from sklearn.metrics import accuracy_score, f1_score\n",
    "from tqdm.auto import tqdm\n",
    "\n",
    "# 将清洗后的图像和标签转换为 PyTorch 张量\n",
    "X = torch.tensor(clean_images, dtype=torch.float32)  # 假设 clean_images 已经归一化\n",
    "y = torch.tensor(clean_labels, dtype=torch.long)\n",
    "\n",
    "# 将数据拆分为训练集和测试集\n",
    "X_train, X_test, y_train, y_test = train_test_split(X, y, test_size=0.2, random_state=42)\n",
    "\n",
    "# 创建训练集和测试集的 DataLoader\n",
    "train_data = TensorDataset(X_train, y_train)\n",
    "train_loader = DataLoader(train_data, batch_size=64, shuffle=True)\n",
    "test_data = TensorDataset(X_test, y_test)\n",
    "test_loader = DataLoader(test_data, batch_size=64)\n",
    "\n",
    "# 定义多层感知器模型\n",
    "class MLP(nn.Module):\n",
    "    def __init__(self, input_size, hidden_size, num_classes):\n",
    "        super(MLP, self).__init__()\n",
    "        self.fc1 = nn.Linear(input_size, hidden_size)\n",
    "        self.relu = nn.ReLU()\n",
    "        self.fc2 = nn.Linear(hidden_size, num_classes)\n",
    "    \n",
    "    def forward(self, x):\n",
    "        x = self.fc1(x)\n",
    "        x = self.relu(x)\n",
    "        x = self.fc2(x)\n",
    "        return x\n",
    "\n",
    "# 初始化模型、损失函数和优化器\n",
    "model = MLP(input_size=224 * 224 * 3, hidden_size=256, num_classes=len(class_labels))\n",
    "criterion = nn.CrossEntropyLoss()\n",
    "optimizer = optim.Adam(model.parameters(), lr=0.0001)  # 调整学习率为0.0001\n",
    "\n",
    "# 训练模型\n",
    "print(\"训练 MLP 模型...\")\n",
    "for epoch in range(10):  # 调整需要的训练轮数\n",
    "    train_loss = 0.0\n",
    "    correct = 0\n",
    "    total = 0\n",
    "    for inputs, labels in tqdm(train_loader, desc=f\"Epoch {epoch+1}\", leave=False):\n",
    "        optimizer.zero_grad()\n",
    "        outputs = model(inputs.view(inputs.size(0), -1))  # 展平输入张量\n",
    "        loss = criterion(outputs, labels)\n",
    "        loss.backward()\n",
    "        optimizer.step()\n",
    "        \n",
    "        # 计算损失值和准确率\n",
    "        train_loss += loss.item() * inputs.size(0)\n",
    "        _, predicted = torch.max(outputs.data, 1)\n",
    "        total += labels.size(0)\n",
    "        correct += (predicted == labels).sum().item()\n",
    "    \n",
    "    train_loss = train_loss / len(train_loader.dataset)\n",
    "    train_accuracy = correct / total\n",
    "    print(f\"训练损失：{train_loss:.4f}, 训练准确率：{train_accuracy:.4f}\")\n",
    "\n",
    "# 评估模型\n",
    "model.eval()\n",
    "with torch.no_grad():\n",
    "    correct = 0\n",
    "    total = 0\n",
    "    y_true = []\n",
    "    y_pred = []\n",
    "    for inputs, labels in tqdm(test_loader, desc=\"评估\", leave=False):\n",
    "        outputs = model(inputs.view(inputs.size(0), -1))\n",
    "        _, predicted = torch.max(outputs.data, 1)\n",
    "        total += labels.size(0)\n",
    "        correct += (predicted == labels).sum().item()\n",
    "        y_true.extend(labels.cpu().numpy())\n",
    "        y_pred.extend(predicted.cpu().numpy())\n",
    "\n",
    "accuracy = correct / total\n",
    "f1 = f1_score(y_true, y_pred, average='weighted')\n",
    "print(f\"测试准确率：{accuracy:.4f}\")\n",
    "print(f\"F1 分数：{f1:.4f}\")\n"
   ]
  },
  {
   "cell_type": "markdown",
   "id": "f475199f",
   "metadata": {},
   "source": [
    "# ResNet"
   ]
  },
  {
   "cell_type": "code",
   "execution_count": 46,
   "id": "957269fc",
   "metadata": {},
   "outputs": [
    {
     "name": "stderr",
     "output_type": "stream",
     "text": [
      "D:\\anaconda\\lib\\site-packages\\torchvision\\models\\_utils.py:208: UserWarning: The parameter 'pretrained' is deprecated since 0.13 and may be removed in the future, please use 'weights' instead.\n",
      "  warnings.warn(\n",
      "D:\\anaconda\\lib\\site-packages\\torchvision\\models\\_utils.py:223: UserWarning: Arguments other than a weight enum or `None` for 'weights' are deprecated since 0.13 and may be removed in the future. The current behavior is equivalent to passing `weights=ResNet18_Weights.IMAGENET1K_V1`. You can also use `weights=ResNet18_Weights.DEFAULT` to get the most up-to-date weights.\n",
      "  warnings.warn(msg)\n"
     ]
    },
    {
     "name": "stdout",
     "output_type": "stream",
     "text": [
      "训练 MLP 模型...\n"
     ]
    },
    {
     "data": {
      "application/vnd.jupyter.widget-view+json": {
       "model_id": "",
       "version_major": 2,
       "version_minor": 0
      },
      "text/plain": [
       "Epoch 1:   0%|          | 0/54 [00:00<?, ?it/s]"
      ]
     },
     "metadata": {},
     "output_type": "display_data"
    },
    {
     "name": "stdout",
     "output_type": "stream",
     "text": [
      "训练损失：0.7924, 训练准确率：0.7348\n"
     ]
    },
    {
     "data": {
      "application/vnd.jupyter.widget-view+json": {
       "model_id": "",
       "version_major": 2,
       "version_minor": 0
      },
      "text/plain": [
       "Epoch 2:   0%|          | 0/54 [00:00<?, ?it/s]"
      ]
     },
     "metadata": {},
     "output_type": "display_data"
    },
    {
     "name": "stdout",
     "output_type": "stream",
     "text": [
      "训练损失：0.3556, 训练准确率：0.8912\n"
     ]
    },
    {
     "data": {
      "application/vnd.jupyter.widget-view+json": {
       "model_id": "",
       "version_major": 2,
       "version_minor": 0
      },
      "text/plain": [
       "Epoch 3:   0%|          | 0/54 [00:00<?, ?it/s]"
      ]
     },
     "metadata": {},
     "output_type": "display_data"
    },
    {
     "name": "stdout",
     "output_type": "stream",
     "text": [
      "训练损失：0.2377, 训练准确率：0.9338\n"
     ]
    },
    {
     "data": {
      "application/vnd.jupyter.widget-view+json": {
       "model_id": "",
       "version_major": 2,
       "version_minor": 0
      },
      "text/plain": [
       "Epoch 4:   0%|          | 0/54 [00:00<?, ?it/s]"
      ]
     },
     "metadata": {},
     "output_type": "display_data"
    },
    {
     "name": "stdout",
     "output_type": "stream",
     "text": [
      "训练损失：0.1818, 训练准确率：0.9457\n"
     ]
    },
    {
     "data": {
      "application/vnd.jupyter.widget-view+json": {
       "model_id": "",
       "version_major": 2,
       "version_minor": 0
      },
      "text/plain": [
       "Epoch 5:   0%|          | 0/54 [00:00<?, ?it/s]"
      ]
     },
     "metadata": {},
     "output_type": "display_data"
    },
    {
     "name": "stdout",
     "output_type": "stream",
     "text": [
      "训练损失：0.1352, 训练准确率：0.9653\n"
     ]
    },
    {
     "data": {
      "application/vnd.jupyter.widget-view+json": {
       "model_id": "",
       "version_major": 2,
       "version_minor": 0
      },
      "text/plain": [
       "Epoch 6:   0%|          | 0/54 [00:00<?, ?it/s]"
      ]
     },
     "metadata": {},
     "output_type": "display_data"
    },
    {
     "name": "stdout",
     "output_type": "stream",
     "text": [
      "训练损失：0.1041, 训练准确率：0.9775\n"
     ]
    },
    {
     "data": {
      "application/vnd.jupyter.widget-view+json": {
       "model_id": "",
       "version_major": 2,
       "version_minor": 0
      },
      "text/plain": [
       "Epoch 7:   0%|          | 0/54 [00:00<?, ?it/s]"
      ]
     },
     "metadata": {},
     "output_type": "display_data"
    },
    {
     "name": "stdout",
     "output_type": "stream",
     "text": [
      "训练损失：0.0800, 训练准确率：0.9860\n"
     ]
    },
    {
     "data": {
      "application/vnd.jupyter.widget-view+json": {
       "model_id": "",
       "version_major": 2,
       "version_minor": 0
      },
      "text/plain": [
       "Epoch 8:   0%|          | 0/54 [00:00<?, ?it/s]"
      ]
     },
     "metadata": {},
     "output_type": "display_data"
    },
    {
     "name": "stdout",
     "output_type": "stream",
     "text": [
      "训练损失：0.0702, 训练准确率：0.9866\n"
     ]
    },
    {
     "data": {
      "application/vnd.jupyter.widget-view+json": {
       "model_id": "",
       "version_major": 2,
       "version_minor": 0
      },
      "text/plain": [
       "Epoch 9:   0%|          | 0/54 [00:00<?, ?it/s]"
      ]
     },
     "metadata": {},
     "output_type": "display_data"
    },
    {
     "name": "stdout",
     "output_type": "stream",
     "text": [
      "训练损失：0.0506, 训练准确率：0.9912\n"
     ]
    },
    {
     "data": {
      "application/vnd.jupyter.widget-view+json": {
       "model_id": "",
       "version_major": 2,
       "version_minor": 0
      },
      "text/plain": [
       "Epoch 10:   0%|          | 0/54 [00:00<?, ?it/s]"
      ]
     },
     "metadata": {},
     "output_type": "display_data"
    },
    {
     "name": "stdout",
     "output_type": "stream",
     "text": [
      "训练损失：0.0427, 训练准确率：0.9962\n"
     ]
    },
    {
     "data": {
      "application/vnd.jupyter.widget-view+json": {
       "model_id": "",
       "version_major": 2,
       "version_minor": 0
      },
      "text/plain": [
       "评估:   0%|          | 0/14 [00:00<?, ?it/s]"
      ]
     },
     "metadata": {},
     "output_type": "display_data"
    },
    {
     "name": "stdout",
     "output_type": "stream",
     "text": [
      "测试准确率：0.9253\n",
      "F1 分数：0.9255\n"
     ]
    }
   ],
   "source": [
    "import torch\n",
    "import torch.nn as nn\n",
    "import torch.optim as optim\n",
    "from torch.utils.data import DataLoader, TensorDataset\n",
    "from sklearn.model_selection import train_test_split\n",
    "from sklearn.metrics import accuracy_score, f1_score\n",
    "from tqdm.auto import tqdm\n",
    "\n",
    "# 将清洗后的图像和标签转换为 PyTorch 张量\n",
    "X = torch.tensor(clean_images, dtype=torch.float32)  # 假设 clean_images 已经归一化\n",
    "# 调整通道维度的顺序\n",
    "X = X.permute(0, 3, 1, 2)\n",
    "y = torch.tensor(clean_labels, dtype=torch.long)\n",
    "\n",
    "# 将数据拆分为训练集和测试集\n",
    "X_train, X_test, y_train, y_test = train_test_split(X, y, test_size=0.2, random_state=42)\n",
    "\n",
    "# 创建训练集和测试集的 DataLoader\n",
    "train_data = TensorDataset(X_train, y_train)\n",
    "train_loader = DataLoader(train_data, batch_size=64, shuffle=True)\n",
    "test_data = TensorDataset(X_test, y_test)\n",
    "test_loader = DataLoader(test_data, batch_size=64)\n",
    "\n",
    "# 定义 ResNet 模型\n",
    "resnet = models.resnet18(pretrained=True)\n",
    "num_ftrs = resnet.fc.in_features\n",
    "resnet.fc = nn.Linear(num_ftrs, len(class_labels))\n",
    "\n",
    "# 初始化模型、损失函数和优化器\n",
    "device = torch.device(\"cuda:0\" if torch.cuda.is_available() else \"cpu\")\n",
    "resnet = resnet.to(device)  # 将模型移动到 GPU\n",
    "criterion = nn.CrossEntropyLoss()\n",
    "optimizer = optim.SGD(resnet.parameters(), lr=0.01)\n",
    "\n",
    "# 训练模型\n",
    "print(\"训练 ResNet 模型...\")\n",
    "for epoch in range(10):  # 调整需要的训练轮数\n",
    "    train_loss = 0.0\n",
    "    correct = 0\n",
    "    total = 0\n",
    "    # 使用 tqdm 显示训练进度条\n",
    "    for inputs, labels in tqdm(train_loader, desc=f\"Epoch {epoch+1}\", leave=False):\n",
    "        inputs, labels = inputs.to(device), labels.to(device)  # 将输入张量和标签移动到 GPU\n",
    "        optimizer.zero_grad()\n",
    "        outputs = resnet(inputs)\n",
    "        loss = criterion(outputs, labels)\n",
    "        loss.backward()\n",
    "        optimizer.step()\n",
    "        \n",
    "        # 计算损失值和准确率\n",
    "        train_loss += loss.item() * inputs.size(0)\n",
    "        _, predicted = torch.max(outputs.data, 1)\n",
    "        total += labels.size(0)\n",
    "        correct += (predicted == labels).sum().item()\n",
    "    \n",
    "    train_loss = train_loss / len(train_loader.dataset)\n",
    "    train_accuracy = correct / total\n",
    "    print(f\"训练损失：{train_loss:.4f}, 训练准确率：{train_accuracy:.4f}\")\n",
    "\n",
    "# 评估模型\n",
    "resnet.eval()\n",
    "with torch.no_grad():\n",
    "    correct = 0\n",
    "    total = 0\n",
    "    predictions = []\n",
    "    true_labels = []\n",
    "    # 使用 tqdm 显示评估进度条\n",
    "    for inputs, labels in tqdm(test_loader, desc=\"评估\", leave=False):\n",
    "        inputs, labels = inputs.to(device), labels.to(device)  # 将输入张量和标签移动到 GPU\n",
    "        outputs = resnet(inputs)\n",
    "        _, predicted = torch.max(outputs.data, 1)\n",
    "        total += labels.size(0)\n",
    "        correct += (predicted == labels).sum().item()\n",
    "        \n",
    "        # 收集预测结果和真实标签以计算 F1 分数\n",
    "        predictions.extend(predicted.cpu().numpy())\n",
    "        true_labels.extend(labels.cpu().numpy())\n",
    "\n",
    "accuracy = correct / total\n",
    "f1 = f1_score(true_labels, predictions, average='weighted')  # 计算 F1 分数\n",
    "print(f\"测试准确率：{accuracy:.4f}\")\n",
    "print(f\"F1 分数：{f1:.4f}\")\n"
   ]
  },
  {
   "cell_type": "code",
   "execution_count": 47,
   "id": "1aa424d3",
   "metadata": {},
   "outputs": [
    {
     "name": "stderr",
     "output_type": "stream",
     "text": [
      "D:\\anaconda\\lib\\site-packages\\torchvision\\models\\_utils.py:208: UserWarning: The parameter 'pretrained' is deprecated since 0.13 and may be removed in the future, please use 'weights' instead.\n",
      "  warnings.warn(\n",
      "D:\\anaconda\\lib\\site-packages\\torchvision\\models\\_utils.py:223: UserWarning: Arguments other than a weight enum or `None` for 'weights' are deprecated since 0.13 and may be removed in the future. The current behavior is equivalent to passing `weights=ResNet18_Weights.IMAGENET1K_V1`. You can also use `weights=ResNet18_Weights.DEFAULT` to get the most up-to-date weights.\n",
      "  warnings.warn(msg)\n"
     ]
    },
    {
     "name": "stdout",
     "output_type": "stream",
     "text": [
      "训练 ResNet 模型...\n"
     ]
    },
    {
     "data": {
      "application/vnd.jupyter.widget-view+json": {
       "model_id": "",
       "version_major": 2,
       "version_minor": 0
      },
      "text/plain": [
       "Epoch 1:   0%|          | 0/54 [00:00<?, ?it/s]"
      ]
     },
     "metadata": {},
     "output_type": "display_data"
    },
    {
     "name": "stdout",
     "output_type": "stream",
     "text": [
      "训练损失：0.7942, 训练准确率：0.7421\n"
     ]
    },
    {
     "data": {
      "application/vnd.jupyter.widget-view+json": {
       "model_id": "",
       "version_major": 2,
       "version_minor": 0
      },
      "text/plain": [
       "Epoch 2:   0%|          | 0/54 [00:00<?, ?it/s]"
      ]
     },
     "metadata": {},
     "output_type": "display_data"
    },
    {
     "name": "stdout",
     "output_type": "stream",
     "text": [
      "训练损失：0.3496, 训练准确率：0.8985\n"
     ]
    },
    {
     "data": {
      "application/vnd.jupyter.widget-view+json": {
       "model_id": "",
       "version_major": 2,
       "version_minor": 0
      },
      "text/plain": [
       "Epoch 3:   0%|          | 0/54 [00:00<?, ?it/s]"
      ]
     },
     "metadata": {},
     "output_type": "display_data"
    },
    {
     "name": "stdout",
     "output_type": "stream",
     "text": [
      "训练损失：0.2441, 训练准确率：0.9306\n"
     ]
    },
    {
     "data": {
      "application/vnd.jupyter.widget-view+json": {
       "model_id": "",
       "version_major": 2,
       "version_minor": 0
      },
      "text/plain": [
       "Epoch 4:   0%|          | 0/54 [00:00<?, ?it/s]"
      ]
     },
     "metadata": {},
     "output_type": "display_data"
    },
    {
     "name": "stdout",
     "output_type": "stream",
     "text": [
      "训练损失：0.1831, 训练准确率：0.9492\n"
     ]
    },
    {
     "data": {
      "application/vnd.jupyter.widget-view+json": {
       "model_id": "",
       "version_major": 2,
       "version_minor": 0
      },
      "text/plain": [
       "Epoch 5:   0%|          | 0/54 [00:00<?, ?it/s]"
      ]
     },
     "metadata": {},
     "output_type": "display_data"
    },
    {
     "name": "stdout",
     "output_type": "stream",
     "text": [
      "训练损失：0.1413, 训练准确率：0.9618\n"
     ]
    },
    {
     "data": {
      "application/vnd.jupyter.widget-view+json": {
       "model_id": "",
       "version_major": 2,
       "version_minor": 0
      },
      "text/plain": [
       "Epoch 6:   0%|          | 0/54 [00:00<?, ?it/s]"
      ]
     },
     "metadata": {},
     "output_type": "display_data"
    },
    {
     "name": "stdout",
     "output_type": "stream",
     "text": [
      "训练损失：0.1065, 训练准确率：0.9778\n"
     ]
    },
    {
     "data": {
      "application/vnd.jupyter.widget-view+json": {
       "model_id": "",
       "version_major": 2,
       "version_minor": 0
      },
      "text/plain": [
       "Epoch 7:   0%|          | 0/54 [00:00<?, ?it/s]"
      ]
     },
     "metadata": {},
     "output_type": "display_data"
    },
    {
     "name": "stdout",
     "output_type": "stream",
     "text": [
      "训练损失：0.0857, 训练准确率：0.9831\n"
     ]
    },
    {
     "data": {
      "application/vnd.jupyter.widget-view+json": {
       "model_id": "",
       "version_major": 2,
       "version_minor": 0
      },
      "text/plain": [
       "Epoch 8:   0%|          | 0/54 [00:00<?, ?it/s]"
      ]
     },
     "metadata": {},
     "output_type": "display_data"
    },
    {
     "name": "stdout",
     "output_type": "stream",
     "text": [
      "训练损失：0.0644, 训练准确率：0.9901\n"
     ]
    },
    {
     "data": {
      "application/vnd.jupyter.widget-view+json": {
       "model_id": "",
       "version_major": 2,
       "version_minor": 0
      },
      "text/plain": [
       "Epoch 9:   0%|          | 0/54 [00:00<?, ?it/s]"
      ]
     },
     "metadata": {},
     "output_type": "display_data"
    },
    {
     "name": "stdout",
     "output_type": "stream",
     "text": [
      "训练损失：0.0494, 训练准确率：0.9927\n"
     ]
    },
    {
     "data": {
      "application/vnd.jupyter.widget-view+json": {
       "model_id": "",
       "version_major": 2,
       "version_minor": 0
      },
      "text/plain": [
       "Epoch 10:   0%|          | 0/54 [00:00<?, ?it/s]"
      ]
     },
     "metadata": {},
     "output_type": "display_data"
    },
    {
     "name": "stdout",
     "output_type": "stream",
     "text": [
      "训练损失：0.0385, 训练准确率：0.9956\n"
     ]
    },
    {
     "data": {
      "application/vnd.jupyter.widget-view+json": {
       "model_id": "",
       "version_major": 2,
       "version_minor": 0
      },
      "text/plain": [
       "评估:   0%|          | 0/14 [00:00<?, ?it/s]"
      ]
     },
     "metadata": {},
     "output_type": "display_data"
    },
    {
     "name": "stdout",
     "output_type": "stream",
     "text": [
      "测试准确率：0.9230\n",
      "F1 分数：0.9231\n"
     ]
    }
   ],
   "source": [
    "# ResNet-18 是一个深度卷积神经网络，\n",
    "# 属于深度学习模型，而不是 MLP（多层感知器）或 SVM（支持向量机）。\n",
    "# 它在图像分类任务中表现出色，通常用于处理计算机视觉问题。\n",
    "import torch\n",
    "import torch.nn as nn\n",
    "import torch.optim as optim\n",
    "from torch.utils.data import DataLoader, TensorDataset\n",
    "from sklearn.model_selection import train_test_split\n",
    "from sklearn.metrics import accuracy_score, f1_score\n",
    "from tqdm.auto import tqdm\n",
    "import torchvision.models as models\n",
    "import torchvision.transforms as transforms\n",
    "\n",
    "# 假设 clean_images 和 clean_labels 已经定义好\n",
    "\n",
    "# 将清洗后的图像和标签转换为 PyTorch 张量\n",
    "X = torch.tensor(clean_images, dtype=torch.float32)  # 假设 clean_images 已经归一化\n",
    "# 调整通道维度的顺序\n",
    "X = X.permute(0, 3, 1, 2)\n",
    "y = torch.tensor(clean_labels, dtype=torch.long)\n",
    "\n",
    "# 将数据拆分为训练集和测试集\n",
    "X_train, X_test, y_train, y_test = train_test_split(X, y, test_size=0.2, random_state=42)\n",
    "\n",
    "# 创建训练集和测试集的 DataLoader\n",
    "train_data = TensorDataset(X_train, y_train)\n",
    "train_loader = DataLoader(train_data, batch_size=64, shuffle=True)\n",
    "test_data = TensorDataset(X_test, y_test)\n",
    "test_loader = DataLoader(test_data, batch_size=64)\n",
    "\n",
    "# 定义 ResNet 模型\n",
    "resnet = models.resnet18(pretrained=True)\n",
    "num_ftrs = resnet.fc.in_features\n",
    "resnet.fc = nn.Linear(num_ftrs, len(class_labels))\n",
    "\n",
    "# 初始化模型、损失函数和优化器\n",
    "device = torch.device(\"cuda:0\" if torch.cuda.is_available() else \"cpu\")\n",
    "resnet = resnet.to(device)  # 将模型移动到 GPU\n",
    "criterion = nn.CrossEntropyLoss()\n",
    "optimizer = optim.SGD(resnet.parameters(), lr=0.01)\n",
    "\n",
    "# 训练模型\n",
    "print(\"训练 ResNet 模型...\")\n",
    "for epoch in range(10):  # 调整需要的训练轮数\n",
    "    train_loss = 0.0\n",
    "    correct = 0\n",
    "    total = 0\n",
    "    # 使用 tqdm 显示训练进度条\n",
    "    for inputs, labels in tqdm(train_loader, desc=f\"Epoch {epoch+1}\", leave=False):\n",
    "        inputs, labels = inputs.to(device), labels.to(device)  # 将输入张量和标签移动到 GPU\n",
    "        optimizer.zero_grad()\n",
    "        outputs = resnet(inputs)\n",
    "        loss = criterion(outputs, labels)\n",
    "        loss.backward()\n",
    "        optimizer.step()\n",
    "        \n",
    "        # 计算损失值和准确率\n",
    "        train_loss += loss.item() * inputs.size(0)\n",
    "        _, predicted = torch.max(outputs.data, 1)\n",
    "        total += labels.size(0)\n",
    "        correct += (predicted == labels).sum().item()\n",
    "    \n",
    "    train_loss = train_loss / len(train_loader.dataset)\n",
    "    train_accuracy = correct / total\n",
    "    print(f\"训练损失：{train_loss:.4f}, 训练准确率：{train_accuracy:.4f}\")\n",
    "\n",
    "# 评估模型\n",
    "resnet.eval()\n",
    "with torch.no_grad():\n",
    "    correct = 0\n",
    "    total = 0\n",
    "    predictions = []\n",
    "    true_labels = []\n",
    "    # 使用 tqdm 显示评估进度条\n",
    "    for inputs, labels in tqdm(test_loader, desc=\"评估\", leave=False):\n",
    "        inputs, labels = inputs.to(device), labels.to(device)  # 将输入张量和标签移动到 GPU\n",
    "        outputs = resnet(inputs)\n",
    "        _, predicted = torch.max(outputs.data, 1)\n",
    "        total += labels.size(0)\n",
    "        correct += (predicted == labels).sum().item()\n",
    "        \n",
    "        # 收集预测结果和真实标签以计算 F1 分数\n",
    "        predictions.extend(predicted.cpu().numpy())\n",
    "        true_labels.extend(labels.cpu().numpy())\n",
    "\n",
    "accuracy = correct / total\n",
    "f1 = f1_score(true_labels, predictions, average='weighted')  # 计算 F1 分数\n",
    "print(f\"测试准确率：{accuracy:.4f}\")\n",
    "print(f\"F1 分数：{f1:.4f}\")\n",
    "\n",
    "\n",
    "\n"
   ]
  },
  {
   "cell_type": "code",
   "execution_count": null,
   "id": "f22f6946",
   "metadata": {},
   "outputs": [],
   "source": []
  },
  {
   "cell_type": "code",
   "execution_count": 24,
   "id": "186399f8",
   "metadata": {},
   "outputs": [
    {
     "data": {
      "image/png": "[encoded data removed]",
      "text/plain": [
       "<Figure size 720x360 with 1 Axes>"
      ]
     },
     "metadata": {
      "needs_background": "light"
     },
     "output_type": "display_data"
    },
    {
     "data": {
      "image/png": "[encoded data removed]",
      "text/plain": [
       "<Figure size 720x360 with 1 Axes>"
      ]
     },
     "metadata": {
      "needs_background": "light"
     },
     "output_type": "display_data"
    },
    {
     "data": {
      "image/png": "[encoded data removed]",
      "text/plain": [
       "<Figure size 432x432 with 1 Axes>"
      ]
     },
     "metadata": {
      "needs_background": "light"
     },
     "output_type": "display_data"
    }
   ],
   "source": [
    "import matplotlib.pyplot as plt\n",
    "\n",
    "# 训练过程中的损失和准确率数据\n",
    "train_losses = [454035.9649, 420418.1015, 350699.2171, 301445.3435, 278219.9025,\n",
    "                206928.8125, 279180.5127, 276084.1200, 209805.1162, 157398.8615]\n",
    "train_accuracies = [0.3186, 0.3731, 0.4262, 0.4282, 0.4726, 0.5006, 0.4877, 0.4918, 0.5280, 0.5852]\n",
    "\n",
    "epochs = range(1, len(train_losses) + 1)\n",
    "\n",
    "# 绘制损失曲线\n",
    "plt.figure(figsize=(10, 5))\n",
    "plt.plot(epochs, train_losses, 'b-', label='训练损失')\n",
    "plt.title('SVM分类器训练损失')\n",
    "plt.xlabel('轮次')\n",
    "plt.ylabel('损失')\n",
    "plt.legend()\n",
    "plt.grid(True)\n",
    "plt.tight_layout()\n",
    "plt.show()\n",
    "\n",
    "# 绘制准确率曲线\n",
    "plt.figure(figsize=(10, 5))\n",
    "plt.plot(epochs, train_accuracies, 'r-', label='训练准确率')\n",
    "plt.title('SVM分类器训练准确率')\n",
    "plt.xlabel('轮次')\n",
    "plt.ylabel('准确率')\n",
    "plt.legend()\n",
    "plt.grid(True)\n",
    "plt.tight_layout()\n",
    "plt.show()\n",
    "\n",
    "# 模型评估指标数据\n",
    "f1_score = 0.2872\n",
    "\n",
    "# 绘制柱状图展示评估指标\n",
    "plt.figure(figsize=(6, 6))\n",
    "labels = ['准确率', 'F1分数']\n",
    "values = [train_accuracies[-1], f1_score]\n",
    "plt.bar(labels, values, color=['blue', 'green'])\n",
    "plt.title('SVM分类器评估指标')\n",
    "plt.ylabel('分数')\n",
    "plt.ylim(0, 1.0)  # 设定y轴范围为0到1\n",
    "plt.grid(axis='y')\n",
    "plt.tight_layout()\n",
    "plt.show()\n"
   ]
  },
  {
   "cell_type": "code",
   "execution_count": 27,
   "id": "d68e5681",
   "metadata": {},
   "outputs": [
    {
     "data": {
      "image/png": "[encoded data removed]",
      "text/plain": [
       "<Figure size 720x360 with 1 Axes>"
      ]
     },
     "metadata": {
      "needs_background": "light"
     },
     "output_type": "display_data"
    },
    {
     "data": {
      "image/png": "[encoded data removed]",
      "text/plain": [
       "<Figure size 720x360 with 1 Axes>"
      ]
     },
     "metadata": {
      "needs_background": "light"
     },
     "output_type": "display_data"
    },
    {
     "data": {
      "image/png": "[encoded data removed]",
      "text/plain": [
       "<Figure size 432x432 with 1 Axes>"
      ]
     },
     "metadata": {
      "needs_background": "light"
     },
     "output_type": "display_data"
    }
   ],
   "source": [
    "import matplotlib.pyplot as plt\n",
    "\n",
    "# 训练过程中的损失和准确率数据\n",
    "train_losses = [454035.9649, 420418.1015, 350699.2171, 301445.3435, 278219.9025,\n",
    "                206928.8125, 279180.5127, 276084.1200, 209805.1162, 157398.8615]\n",
    "train_accuracies = [0.3186, 0.3731, 0.4262, 0.4282, 0.4726, 0.5006, 0.4877, 0.4918, 0.5280, 0.5852]\n",
    "\n",
    "epochs = range(1, len(train_losses) + 1)\n",
    "\n",
    "# 绘制损失曲线\n",
    "plt.figure(figsize=(10, 5))\n",
    "plt.plot(epochs, train_losses, 'b-', marker='o', label='训练损失')\n",
    "plt.title('SVM分类器训练损失')\n",
    "plt.xlabel('训练轮次')\n",
    "plt.ylabel('损失')\n",
    "plt.legend()\n",
    "plt.grid(True)\n",
    "for x, y in zip(epochs, train_losses):\n",
    "    plt.text(x, y, f'{y:.2f}', ha='center', va='bottom')\n",
    "plt.tight_layout()\n",
    "plt.savefig('svm_损失曲线.png')  # 保存图片\n",
    "plt.show()\n",
    "\n",
    "# 绘制准确率曲线\n",
    "plt.figure(figsize=(10, 5))\n",
    "plt.plot(epochs, train_accuracies, 'r-', marker='o', label='训练准确率')\n",
    "plt.title('SVM分类器训练准确率')\n",
    "plt.xlabel('训练轮次')\n",
    "plt.ylabel('准确率')\n",
    "plt.legend()\n",
    "plt.grid(True)\n",
    "for x, y in zip(epochs, train_accuracies):\n",
    "    plt.text(x, y, f'{y:.2f}', ha='center', va='bottom')\n",
    "plt.tight_layout()\n",
    "plt.savefig('svm_准确率曲线.png')  # 保存图片\n",
    "plt.show()\n",
    "\n",
    "# 模型评估指标数据\n",
    "f1_score = 0.2872\n",
    "\n",
    "# 绘制柱状图展示评估指标\n",
    "plt.figure(figsize=(6, 6))\n",
    "labels = ['准确率', 'F1分数']\n",
    "values = [train_accuracies[-1], f1_score]\n",
    "bars = plt.bar(labels, values, color=['blue', 'green'])\n",
    "plt.title('SVM分类器评估指标')\n",
    "plt.ylabel('分数')\n",
    "plt.ylim(0, 1.0)  # 设定y轴范围为0到1\n",
    "plt.grid(axis='y')\n",
    "for bar, value in zip(bars, values):\n",
    "    plt.text(bar.get_x() + bar.get_width()/2, value, f'{value:.2f}', ha='center', va='bottom')\n",
    "plt.tight_layout()\n",
    "plt.savefig('SVM分类器评估指标.png')  # 保存图片\n",
    "plt.show()\n"
   ]
  },
  {
   "cell_type": "code",
   "execution_count": 28,
   "id": "400e4a56",
   "metadata": {},
   "outputs": [
    {
     "data": {
      "image/png": "[encoded data removed]",
      "text/plain": [
       "<Figure size 720x360 with 1 Axes>"
      ]
     },
     "metadata": {
      "needs_background": "light"
     },
     "output_type": "display_data"
    },
    {
     "data": {
      "image/png": "[encoded data removed]",
      "text/plain": [
       "<Figure size 720x360 with 1 Axes>"
      ]
     },
     "metadata": {
      "needs_background": "light"
     },
     "output_type": "display_data"
    },
    {
     "data": {
      "image/png": "[encoded data removed]",
      "text/plain": [
       "<Figure size 432x432 with 1 Axes>"
      ]
     },
     "metadata": {
      "needs_background": "light"
     },
     "output_type": "display_data"
    }
   ],
   "source": [
    "import matplotlib.pyplot as plt\n",
    "\n",
    "# 训练过程中的损失和准确率数据\n",
    "train_losses = [444.1050, 58.4103, 43.1599, 48.8859, 29.1635,\n",
    "                29.2301, 27.5989, 29.3232, 33.3249, 18.7256]\n",
    "train_accuracies = [0.3092, 0.3941, 0.4291, 0.4209, 0.4904,\n",
    "                    0.4743, 0.5175, 0.4907, 0.5137, 0.5741]\n",
    "test_accuracy = 0.3956\n",
    "f1_score = 0.3112\n",
    "\n",
    "epochs = range(1, len(train_losses) + 1)\n",
    "\n",
    "# 绘制损失曲线\n",
    "plt.figure(figsize=(10, 5))\n",
    "plt.plot(epochs, train_losses, 'b-', marker='o', label='训练损失')\n",
    "plt.title('MLP模型训练损失')\n",
    "plt.xlabel('训练轮次')\n",
    "plt.ylabel('损失')\n",
    "plt.legend()\n",
    "plt.grid(True)\n",
    "for x, y in zip(epochs, train_losses):\n",
    "    plt.text(x, y, f'{y:.2f}', ha='center', va='bottom')\n",
    "plt.tight_layout()\n",
    "plt.savefig('mlp_损失曲线.png')  # 保存图片\n",
    "plt.show()\n",
    "\n",
    "# 绘制准确率曲线\n",
    "plt.figure(figsize=(10, 5))\n",
    "plt.plot(epochs, train_accuracies, 'r-', marker='o', label='训练准确率')\n",
    "plt.title('MLP模型训练准确率')\n",
    "plt.xlabel('训练轮次')\n",
    "plt.ylabel('准确率')\n",
    "plt.legend()\n",
    "plt.grid(True)\n",
    "for x, y in zip(epochs, train_accuracies):\n",
    "    plt.text(x, y, f'{y:.2f}', ha='center', va='bottom')\n",
    "plt.tight_layout()\n",
    "plt.savefig('mlp_准确率曲线.png')  # 保存图片\n",
    "plt.show()\n",
    "\n",
    "# 模型评估指标数据\n",
    "evaluation_metrics = ['测试准确率', 'F1分数']\n",
    "metrics_values = [test_accuracy, f1_score]\n",
    "\n",
    "# 绘制柱状图展示评估指标\n",
    "plt.figure(figsize=(6, 6))\n",
    "bars = plt.bar(evaluation_metrics, metrics_values, color=['blue', 'green'])\n",
    "plt.title('MLP模型评估指标')\n",
    "plt.ylabel('分数')\n",
    "plt.ylim(0, 1.0)  # 设定y轴范围为0到1\n",
    "plt.grid(axis='y')\n",
    "for bar, value in zip(bars, metrics_values):\n",
    "    plt.text(bar.get_x() + bar.get_width()/2, value, f'{value:.2f}', ha='center', va='bottom')\n",
    "plt.tight_layout()\n",
    "plt.savefig('mlp_评估指标.png')  # 保存图片\n",
    "plt.show()\n"
   ]
  },
  {
   "cell_type": "code",
   "execution_count": 30,
   "id": "bddb6c94",
   "metadata": {},
   "outputs": [
    {
     "data": {
      "image/png": "[encoded data removed]",
      "text/plain": [
       "<Figure size 720x360 with 1 Axes>"
      ]
     },
     "metadata": {
      "needs_background": "light"
     },
     "output_type": "display_data"
    },
    {
     "data": {
      "image/png": "[encoded data removed]",
      "text/plain": [
       "<Figure size 720x360 with 1 Axes>"
      ]
     },
     "metadata": {
      "needs_background": "light"
     },
     "output_type": "display_data"
    },
    {
     "data": {
      "image/png": "[encoded data removed]",
      "text/plain": [
       "<Figure size 432x432 with 1 Axes>"
      ]
     },
     "metadata": {
      "needs_background": "light"
     },
     "output_type": "display_data"
    }
   ],
   "source": [
    "import matplotlib.pyplot as plt\n",
    "\n",
    "# 训练过程中的损失和准确率数据\n",
    "train_losses = [0.7924, 0.3556, 0.2377, 0.1818, 0.1352,\n",
    "                0.1041, 0.0800, 0.0702, 0.0506, 0.0427]\n",
    "train_accuracies = [0.7348, 0.8912, 0.9338, 0.9457, 0.9653,\n",
    "                    0.9775, 0.9860, 0.9866, 0.9912, 0.9962]\n",
    "test_accuracy = 0.9253\n",
    "f1_score = 0.9255\n",
    "\n",
    "epochs = range(1, len(train_losses) + 1)\n",
    "\n",
    "# 绘制损失曲线\n",
    "plt.figure(figsize=(10, 5))\n",
    "plt.plot(epochs, train_losses, 'b-', marker='o', label='训练损失')\n",
    "plt.title('ResNet模型训练损失')\n",
    "plt.xlabel('训练轮次')\n",
    "plt.ylabel('损失')\n",
    "plt.legend()\n",
    "plt.grid(True)\n",
    "for x, y in zip(epochs, train_losses):\n",
    "    plt.text(x, y, f'{y:.4f}', ha='center', va='bottom')\n",
    "plt.tight_layout()\n",
    "plt.savefig('resnet_损失曲线.png')  # 保存图片\n",
    "plt.show()\n",
    "\n",
    "# 绘制准确率曲线\n",
    "plt.figure(figsize=(10, 5))\n",
    "plt.plot(epochs, train_accuracies, 'r-', marker='o', label='训练准确率')\n",
    "plt.title('ResNet模型训练准确率')\n",
    "plt.xlabel('训练轮次')\n",
    "plt.ylabel('准确率')\n",
    "plt.legend()\n",
    "plt.grid(True)\n",
    "for x, y in zip(epochs, train_accuracies):\n",
    "    plt.text(x, y, f'{y:.4f}', ha='center', va='bottom')\n",
    "plt.tight_layout()\n",
    "plt.savefig('resnet_准确率曲线')  # 保存图片\n",
    "plt.show()\n",
    "\n",
    "# 模型评估指标数据\n",
    "evaluation_metrics = ['测试准确率', 'F1分数']\n",
    "metrics_values = [test_accuracy, f1_score]\n",
    "\n",
    "# 绘制柱状图展示评估指标\n",
    "plt.figure(figsize=(6, 6))\n",
    "bars = plt.bar(evaluation_metrics, metrics_values, color=['blue', 'green'])\n",
    "plt.title('ResNet模型评估指标')\n",
    "plt.ylabel('分数')\n",
    "plt.ylim(0, 1.0)  # 设定y轴范围为0到1\n",
    "plt.grid(axis='y')\n",
    "for bar, value in zip(bars, metrics_values):\n",
    "    plt.text(bar.get_x() + bar.get_width()/2, value, f'{value:.4f}', ha='center', va='bottom')\n",
    "plt.tight_layout()\n",
    "plt.savefig('resnet_评估指标.png')  # 保存图片\n",
    "plt.show()\n"
   ]
  },
  {
   "cell_type": "code",
   "execution_count": 31,
   "id": "aabbdabb",
   "metadata": {},
   "outputs": [
    {
     "name": "stdout",
     "output_type": "stream",
     "text": [
      "模型准确率和F1分数表格:\n",
      "       模型  训练准确率  测试准确率   F1分数\n",
      "0     SVM  58.52    NaN  28.72\n",
      "1     MLP  99.62  39.56  31.12\n",
      "2  ResNet  99.62  92.53  92.55\n"
     ]
    },
    {
     "data": {
      "image/png": "[encoded data removed]",
      "text/plain": [
       "<Figure size 720x432 with 1 Axes>"
      ]
     },
     "metadata": {
      "needs_background": "light"
     },
     "output_type": "display_data"
    }
   ],
   "source": [
    "import pandas as pd\n",
    "import matplotlib.pyplot as plt\n",
    "\n",
    "# 创建数据\n",
    "data = {\n",
    "    '模型': ['SVM', 'MLP', 'ResNet'],\n",
    "    '训练准确率': [58.52, 99.62, 99.62],\n",
    "    '测试准确率': [None, 39.56, 92.53],\n",
    "    'F1分数': [28.72, 31.12, 92.55]\n",
    "}\n",
    "\n",
    "# 创建DataFrame\n",
    "df = pd.DataFrame(data)\n",
    "\n",
    "# 打印表格\n",
    "print(\"模型准确率和F1分数表格:\")\n",
    "print(df)\n",
    "\n",
    "# 绘制条形图\n",
    "fig, ax = plt.subplots(figsize=(10, 6))\n",
    "\n",
    "models = df['模型']\n",
    "train_accuracy = df['训练准确率']\n",
    "test_accuracy = df['测试准确率']\n",
    "f1_score = df['F1分数']\n",
    "\n",
    "bar_width = 0.2\n",
    "index = range(len(models))\n",
    "\n",
    "bar1 = ax.bar(index, train_accuracy, bar_width, label='训练准确率')\n",
    "bar2 = ax.bar([i + bar_width for i in index], test_accuracy, bar_width, label='测试准确率')\n",
    "bar3 = ax.bar([i + 2 * bar_width for i in index], f1_score, bar_width, label='F1分数')\n",
    "\n",
    "ax.set_xlabel('模型')\n",
    "ax.set_ylabel('百分比')\n",
    "ax.set_title('不同模型的准确率和F1分数')\n",
    "ax.set_xticks([i + bar_width for i in index])\n",
    "ax.set_xticklabels(models)\n",
    "ax.legend()\n",
    "\n",
    "plt.xticks(rotation=45)\n",
    "plt.tight_layout()\n",
    "plt.show()\n"
   ]
  },
  {
   "cell_type": "code",
   "execution_count": null,
   "id": "ec49f964",
   "metadata": {},
   "outputs": [],
   "source": []
  }
 ],
 "metadata": {
  "kernelspec": {
   "display_name": "Python 3",
   "language": "python",
   "name": "python3"
  },
  "language_info": {
   "codemirror_mode": {
    "name": "ipython",
    "version": 3
   },
   "file_extension": ".py",
   "mimetype": "text/x-python",
   "name": "python",
   "nbconvert_exporter": "python",
   "pygments_lexer": "ipython3",
   "version": "3.8.8"
  }
 },
 "nbformat": 4,
 "nbformat_minor": 5
}
