{
 "cells": [
  {
   "cell_type": "code",
   "execution_count": 98,
   "id": "e0584d9d",
   "metadata": {},
   "outputs": [
    {
     "name": "stdout",
     "output_type": "stream",
     "text": [
      "VideoObject(id='42051732092849500-9221298529227887534', model='cogvideox', video_result=None, task_status='PROCESSING', request_id='-9221298529227887535')\n"
     ]
    }
   ],
   "source": [
    "# 文本生成视频\n",
    "from zhipuai import ZhipuAI\n",
    "client = ZhipuAI(api_key=\"9bd46e9516914017dccd1b13806d718e.Aq1quFNOAu3uOVeO\") # 请填写您自己的APIKey\n",
    "\n",
    "response = client.videos.generations(\n",
    "    model=\"cogvideox\",\n",
    "    prompt=\"\"\"文本生成视频，\n",
    "    \n",
    "    特写镜头（镜头描述），傍晚的微光（光线运用），\n",
    "一只鸡站在篮球上，鸡有着橙色的羽毛和米白色的喙，鸡的身上穿着黑色吊带裤，裤子是黑的，带是白的（主体描述），\n",
    "背景是篮球场（环境描述）。\n",
    "    \n",
    "    \n",
    "    \"\"\"\n",
    ")\n",
    "print(response)"
   ]
  },
  {
   "cell_type": "code",
   "execution_count": null,
   "id": "37489627",
   "metadata": {},
   "outputs": [],
   "source": []
  },
  {
   "cell_type": "code",
   "execution_count": 102,
   "id": "11b6897b",
   "metadata": {},
   "outputs": [
    {
     "name": "stdout",
     "output_type": "stream",
     "text": [
      "VideoObject(id=None, model='cogvideox', video_result=[VideoResult(url='https://aigc-files.bigmodel.cn/api/cogvideo/0d0411d4-a7de-11ef-a354-628f45da38f5_0.mp4', cover_image_url='https://aigc-files.bigmodel.cn/api/cogvideo/0d0411d4-a7de-11ef-a354-628f45da38f5_cover_0.jpeg')], task_status='SUCCESS', request_id='-9221298529227887535')\n"
     ]
    }
   ],
   "source": [
    "from zhipuai import ZhipuAI\n",
    "client = ZhipuAI(api_key=\"9bd46e9516914017dccd1b13806d718e.Aq1quFNOAu3uOVeO\") # 请填写您自己的APIKey\n",
    "\n",
    "response = client.videos.retrieve_videos_result( \n",
    "    id=\"42051732092849500-9221298529227887534\" \n",
    ")\n",
    "print (response)"
   ]
  },
  {
   "cell_type": "code",
   "execution_count": null,
   "id": "a784192f",
   "metadata": {},
   "outputs": [],
   "source": []
  },
  {
   "cell_type": "code",
   "execution_count": 158,
   "id": "2211314e",
   "metadata": {},
   "outputs": [
    {
     "name": "stdout",
     "output_type": "stream",
     "text": [
      "VideoObject(id='42051732092849500-9221301999562460490', model='cogvideox', video_result=None, task_status='PROCESSING', request_id='-9221301999562460491')\n"
     ]
    }
   ],
   "source": [
    "# 图片生成视频\n",
    "from zhipuai import ZhipuAI\n",
    "client = ZhipuAI(api_key=\"9bd46e9516914017dccd1b13806d718e.Aq1quFNOAu3uOVeO\") # 请填写您自己的APIKey\n",
    "response = client.videos.generations(\n",
    "    model=\"cogvideox\",\n",
    "    image_url ='https://tse3-mm.cn.bing.net/th/id/OIP-C.yKmRza1FBqROs9bW4sv4owHaLH?w=198&h=297&c=7&r=0&o=5&pid=1.7',\n",
    "    prompt=\"图片生成视频：他拿出一个篮球\")\n",
    "\n",
    "print(response)"
   ]
  },
  {
   "cell_type": "code",
   "execution_count": 161,
   "id": "e006cc30",
   "metadata": {},
   "outputs": [
    {
     "name": "stdout",
     "output_type": "stream",
     "text": [
      "VideoObject(id=None, model='cogvideox', video_result=[VideoResult(url='https://aigc-files.bigmodel.cn/api/cogvideo/9482163e-a7e2-11ef-8bee-8a0b61298c3b_0.mp4', cover_image_url='https://aigc-files.bigmodel.cn/api/cogvideo/9482163e-a7e2-11ef-8bee-8a0b61298c3b_cover_0.jpeg')], task_status='SUCCESS', request_id='-9221301999562460491')\n"
     ]
    }
   ],
   "source": [
    "from zhipuai import ZhipuAI\n",
    "client = ZhipuAI(api_key=\"9bd46e9516914017dccd1b13806d718e.Aq1quFNOAu3uOVeO\") # 请填写您自己的APIKey\n",
    "\n",
    "response = client.videos.retrieve_videos_result( \n",
    "    id=\"42051732092849500-9221301999562460490\" \n",
    ")\n",
    "print (response)"
   ]
  },
  {
   "cell_type": "code",
   "execution_count": null,
   "id": "05b084ff",
   "metadata": {},
   "outputs": [],
   "source": []
  },
  {
   "cell_type": "code",
   "execution_count": null,
   "id": "4b57cd58",
   "metadata": {},
   "outputs": [],
   "source": []
  },
  {
   "cell_type": "code",
   "execution_count": null,
   "id": "dfc4080f",
   "metadata": {},
   "outputs": [],
   "source": []
  }
 ],
 "metadata": {
  "kernelspec": {
   "display_name": "Python 3 (ipykernel)",
   "language": "python",
   "name": "python3"
  },
  "language_info": {
   "codemirror_mode": {
    "name": "ipython",
    "version": 3
   },
   "file_extension": ".py",
   "mimetype": "text/x-python",
   "name": "python",
   "nbconvert_exporter": "python",
   "pygments_lexer": "ipython3",
   "version": "3.9.7"
  }
 },
 "nbformat": 4,
 "nbformat_minor": 5
}
