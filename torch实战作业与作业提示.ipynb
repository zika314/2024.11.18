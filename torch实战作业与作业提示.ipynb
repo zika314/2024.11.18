{
 "cells": [
  {
   "cell_type": "markdown",
   "id": "2c1bb01f-6912-4ed2-8ec7-e680043d2ca9",
   "metadata": {},
   "source": [
    "# 作业与作业提示"
   ]
  },
  {
   "cell_type": "markdown",
   "id": "63ab5b6a-f08b-400d-af8a-acdd323007b8",
   "metadata": {},
   "source": [
    "![](WechatIMG55.jpg)"
   ]
  },
  {
   "cell_type": "markdown",
   "id": "d9f25cad-92a7-493e-ba84-e44ceaaf340a",
   "metadata": {},
   "source": [
    "![](计算图.png)"
   ]
  },
  {
   "cell_type": "markdown",
   "id": "953c9015-6987-4f4c-b903-35b353247510",
   "metadata": {},
   "source": [
    "作业内容：\n",
    "1. 绘制ppt作业中二元函数类似于上图的计算图；\n",
    "2. 使用torch算出计算图中所有节点分别对x1, x2的导数（类似于下图，但是下图仅给出了所有圆圈节点对x1的导数）；"
   ]
  },
  {
   "cell_type": "markdown",
   "id": "565910e5-e3ce-456a-84c6-76f495e40719",
   "metadata": {},
   "source": [
    "![](ppt.png)"
   ]
  },
  {
   "cell_type": "markdown",
   "id": "327e1000-c9d8-463a-a5a6-d05a1579495a",
   "metadata": {},
   "source": [
    "$$ \n",
    "y = f(x_1,x_2)=ln(x_1)+x_1x_2-sin(x_2)\n",
    "$$"
   ]
  },
  {
   "cell_type": "markdown",
   "id": "46d75762-1c81-476a-8da8-53cacf6ce69c",
   "metadata": {},
   "source": [
    "\\begin{aligned} \n",
    "&\\text{复合函数表示如下：} \\\\\n",
    "&v_{-1} = x_1 \\\\\n",
    "&v_0 = x_2 \\\\\n",
    "&v_1 = ln(v_{-1}) \\\\\n",
    "&v_2 = v_{-1}v_0 \\\\\n",
    "&v_3 = sin(v_0) \\\\\n",
    "&v_4 = v_1+v_2 \\\\\n",
    "&v_5 = v_4-v_3\n",
    "\\end{aligned}"
   ]
  },
  {
   "cell_type": "code",
   "execution_count": 1,
   "id": "07205b86-a99e-4242-9d7d-b2a4112e1b1f",
   "metadata": {
    "tags": []
   },
   "outputs": [],
   "source": [
    "import torch\n",
    "def sin(x):\n",
    "    return torch.sin(x)"
   ]
  },
  {
   "cell_type": "code",
   "execution_count": 2,
   "id": "2a628647-8576-4425-8ab3-b720c4759404",
   "metadata": {
    "tags": []
   },
   "outputs": [],
   "source": [
    "x1 = torch.tensor(2.0, requires_grad=True)\n",
    "x2 = torch.tensor(5.0, requires_grad=True)"
   ]
  },
  {
   "cell_type": "code",
   "execution_count": 3,
   "id": "66a31547-af60-4559-a714-d3b97dd78817",
   "metadata": {
    "tags": []
   },
   "outputs": [],
   "source": [
    "v_minus_1 = x1\n",
    "v0 = x2\n",
    "v1 = torch.log(v_minus_1)\n",
    "v2 = v_minus_1*v0\n",
    "v3 = sin(v0)\n",
    "v4 = v1 + v2\n",
    "v5 = v4 - v3"
   ]
  },
  {
   "cell_type": "markdown",
   "id": "c647fac0-e407-41ef-a6f5-0dfa6071ace9",
   "metadata": {
    "execution": {
     "iopub.execute_input": "2024-11-19T06:51:20.388156Z",
     "iopub.status.busy": "2024-11-19T06:51:20.387498Z",
     "iopub.status.idle": "2024-11-19T06:51:20.397574Z",
     "shell.execute_reply": "2024-11-19T06:51:20.395587Z",
     "shell.execute_reply.started": "2024-11-19T06:51:20.388109Z"
    }
   },
   "source": [
    "$$\n",
    "\\frac{dv1}{dx1}=\\frac{1}{v_{-1}}\\frac{dv_{-1}}{dx_1}\\\\\n",
    "\\frac{dv_3}{dx_1}=cosv_0\\frac{dv_0}{dx_1}=cosv_0*0\n",
    "$$"
   ]
  },
  {
   "cell_type": "code",
   "execution_count": 4,
   "id": "9b20aa3d-8dca-4c3d-a69e-e3cf01fbb7cf",
   "metadata": {},
   "outputs": [
    {
     "name": "stdout",
     "output_type": "stream",
     "text": [
      "节点v_minus_1对x1的导数 tensor(1.)\n",
      "节点v_minus_1对x2的导数 None\n",
      "节点v0对x1的导数 tensor(0.)\n",
      "节点v0对x2的导数 tensor(1.)\n",
      "节点v1对x1的导数 tensor(0.5000)\n",
      "节点v1对x2的导数 tensor(0.)\n",
      "节点v2对x1的导数 tensor(5.)\n",
      "节点v2对x2的导数 tensor(2.)\n",
      "节点v3对x1的导数 tensor(0.)\n",
      "节点v3对x2的导数 tensor(0.2837)\n",
      "节点v4对x1的导数 tensor(5.5000)\n",
      "节点v4对x2的导数 tensor(2.)\n",
      "节点v5对x1的导数 tensor(5.5000)\n",
      "节点v5对x2的导数 tensor(1.7163)\n"
     ]
    }
   ],
   "source": [
    "node_dict = {\"v_minus_1\": v_minus_1, \"v0\": v0, \"v1\": v1, \"v2\": v2, \"v3\": v3, \"v4\": v4, \"v5\": v5}\n",
    "var_dict = {\"x1\": x1, \"x2\": x2}\n",
    "for k in node_dict:\n",
    "    for var_name in var_dict:\n",
    "        if var_dict[var_name].grad is not None:\n",
    "            var_dict[var_name].grad.zero_()\n",
    "        node_dict[k].backward(retain_graph=True)\n",
    "        print(f\"节点{k}对{var_name}的导数\", var_dict[var_name].grad)"
   ]
  },
  {
   "cell_type": "markdown",
   "id": "8c57da99-e2e3-44a6-a119-694221284fcd",
   "metadata": {
    "tags": []
   },
   "source": [
    "# 作业提示: 计算如下二元函数在“计算图”中的所有节点分别对x1=1、x2=0的偏导数"
   ]
  },
  {
   "cell_type": "markdown",
   "id": "c97acc83-7e42-4fda-bb53-7c48dca549f1",
   "metadata": {},
   "source": [
    "$$ \n",
    "\\begin{aligned} \n",
    "&z = x_1^2+x_2\n",
    "\\end{aligned}\n",
    "$$"
   ]
  },
  {
   "cell_type": "markdown",
   "id": "be532451-a6a3-4793-9d7d-222b620a158c",
   "metadata": {},
   "source": [
    "\\begin{aligned} \n",
    "&\\text{复合函数表示如下：} \\\\\n",
    "&v_0 = x_1 \\\\\n",
    "&v_1 = x_2 \\\\\n",
    "&v_2 = v_0^2 \\\\\n",
    "&z = v_2 + v_1 \n",
    "\\end{aligned}"
   ]
  },
  {
   "cell_type": "code",
   "execution_count": 5,
   "id": "2144e504-3902-4396-a049-ca6f58e60ee9",
   "metadata": {
    "tags": []
   },
   "outputs": [],
   "source": [
    "import torch"
   ]
  },
  {
   "cell_type": "code",
   "execution_count": 6,
   "id": "ad7386e4-36b1-4bde-aefd-a05f0c925fde",
   "metadata": {
    "tags": []
   },
   "outputs": [],
   "source": [
    "def x_square(x):\n",
    "    return x**2"
   ]
  },
  {
   "cell_type": "code",
   "execution_count": 7,
   "id": "bcfa2f23-354f-4481-b490-28404a5f14d3",
   "metadata": {
    "tags": []
   },
   "outputs": [],
   "source": [
    "x1 = torch.tensor(1.0, requires_grad=True)\n",
    "x2 = torch.tensor(0.0, requires_grad=True)"
   ]
  },
  {
   "cell_type": "code",
   "execution_count": 8,
   "id": "cbf73ab3-d9cd-4a45-ac78-ee4c2d6f4596",
   "metadata": {
    "tags": []
   },
   "outputs": [],
   "source": [
    "v0 = x1\n",
    "v1 = x2\n",
    "v2 = x_square(v0)\n",
    "z = v2+v1"
   ]
  },
  {
   "cell_type": "code",
   "execution_count": 9,
   "id": "196dc4b2-1cf9-479a-a4ce-c99364d7be28",
   "metadata": {
    "tags": []
   },
   "outputs": [],
   "source": [
    "node_dict = {\"v0\": v0, \"v1\": v1, \"v2\": v2, \"z\": z}\n",
    "var_dict = {\"x1\": x1, \"x2\": x2}"
   ]
  },
  {
   "cell_type": "code",
   "execution_count": 10,
   "id": "e5c6196e-a587-4afd-9e5f-10e5cbee0a33",
   "metadata": {
    "tags": []
   },
   "outputs": [
    {
     "name": "stdout",
     "output_type": "stream",
     "text": [
      "节点v0对x1导数:  tensor(1.)\n",
      "节点v0对x2导数:  tensor(0.)\n",
      "节点v1对x1导数:  tensor(0.)\n",
      "节点v1对x2导数:  tensor(1.)\n",
      "节点v2对x1导数:  tensor(2.)\n",
      "节点v2对x2导数:  tensor(0.)\n",
      "节点z对x1导数:  tensor(2.)\n",
      "节点z对x2导数:  tensor(1.)\n"
     ]
    }
   ],
   "source": [
    "for node_name in node_dict:\n",
    "    for var_name in var_dict:\n",
    "        node = node_dict[node_name]\n",
    "        var = var_dict[var_name]\n",
    "        \n",
    "        if var.grad is not None:\n",
    "            var.grad.zero_()\n",
    "        else:\n",
    "            var.grad = torch.tensor(0.0)\n",
    "        node.backward(retain_graph=True)\n",
    "        print(f\"节点{node_name}对{var_name}导数: \", var.grad)"
   ]
  },
  {
   "cell_type": "code",
   "execution_count": null,
   "id": "6ae5e3fe-1563-4767-b47f-0cbd481dd648",
   "metadata": {},
   "outputs": [],
   "source": []
  }
 ],
 "metadata": {
  "kernelspec": {
   "display_name": "Python 3 (ipykernel)",
   "language": "python",
   "name": "python3"
  },
  "language_info": {
   "codemirror_mode": {
    "name": "ipython",
    "version": 3
   },
   "file_extension": ".py",
   "mimetype": "text/x-python",
   "name": "python",
   "nbconvert_exporter": "python",
   "pygments_lexer": "ipython3",
   "version": "3.9.7"
  }
 },
 "nbformat": 4,
 "nbformat_minor": 5
}
