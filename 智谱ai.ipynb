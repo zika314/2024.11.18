{
 "cells": [
  {
   "cell_type": "code",
   "execution_count": 11,
   "id": "5fd2367c",
   "metadata": {},
   "outputs": [],
   "source": [
    "import os \n",
    "from zhipuai import ZhipuAI\n",
    "import base64 #导入base64库，用于将视频文件编码成base64字符申格式\n",
    "os.environ[\"ZHIPUAI_API_KEY\"] = \"9bd46e9516914017dccd1b13806d718e.Aq1quFNOAu3uOVeO\"\n",
    "client = ZhipuAI()"
   ]
  },
  {
   "cell_type": "code",
   "execution_count": 12,
   "id": "7d682d29",
   "metadata": {},
   "outputs": [
    {
     "name": "stdout",
     "output_type": "stream",
     "text": [
      "通常来说，视频理解的响应时间较长，需要等待数十秒….....\n",
      "CompletionMessage(content='好的,我会尽力让这个故事变得有趣。\\n\\n在一个阳光明媚的下午,一只可爱的小狗正在公园里玩耍。它追逐着蝴蝶,跳过小溪,还和其它狗狗一起玩拔河游戏。这只小狗非常活泼好动,总是充满了能量。\\n\\n就在这时,小狗看到了一个飞盘,它立刻兴奋地跑了过去。但是,当它试图抓住飞盘时,却不小心摔倒了。小狗感到有些尴尬,但它并没有放弃。相反,它决定用一种独特的方式来抓住飞盘。\\n\\n于是,小狗开始在空中跳跃,像一只袋鼠一样。它的尾巴摇摆着,耳朵竖立起来,看起来非常滑稽。最终,小狗成功地抓住了飞盘,并且骄傲地向主人炫耀。\\n\\n这就是这个小狗的故事。尽管它在尝试抓住飞盘时摔倒了,但它没有放弃,而是用一种有趣的方式来解决问题。这个故事告诉我们,即使我们遇到挫折,也要保持乐观并寻找新的解决方案。', role='assistant', tool_calls=None)\n"
     ]
    }
   ],
   "source": [
    "video_path = \"v.f100830.mp4\" \n",
    "# 设置视频文件的路径\n",
    "with open(video_path, 'rb') as video_file: # 以\"二进制读\"模式打开视频文件\n",
    "    video_base = base64.b64encode(video_file.read()).decode('utf-8')#把视频文件编码成智谱支持的video_base64字符串，再解码成utf-8格式字符申\n",
    "\n",
    "print(\"通常来说，视频理解的响应时间较长，需要等待数十秒….....\")\n",
    "\n",
    "response = client.chat.completions.create( # 直接调补全接口\n",
    "    model=\"glm-4v-plus\",# 设置智谱具体大模型，glm-4v-plus支持视频理解\n",
    "    temperature=0.0,#设置温度参数,控制生成文本的随机性, 0.0表示不随机,输出最可能的文本\n",
    "    top_p=0,# 设置top_p参数，控制生成文本的多样性，0表示不使用此参数\n",
    "\n",
    "    messages=[{ #设置消息列表\n",
    "        \"role\":\"user\",# 指定消息的角色为用户\n",
    "        \"content\":[{ # 定义消息内容列表\n",
    "            \"type\":\"video_url\", # 设置视频链接\n",
    "            \"video_url\":{\"url\":video_base} # 将编码后的视频以base64字符申形式作为链接\n",
    "        },{\n",
    "            \"type\":\"text\",\n",
    "            \"text\":\"请仔细描述这个视频的环境，图中的小狗在干啥，以有趣的方式讲给我听\" # 设置提问/提示词# 设置提问/提示词类型为文本\n",
    "        }]\n",
    "    }]\n",
    ")\n",
    "print(response.choices[0].message) # 输出回答列表中的第一个选项中的消息"
   ]
  },
  {
   "cell_type": "code",
   "execution_count": null,
   "id": "a2b2b914",
   "metadata": {},
   "outputs": [],
   "source": []
  }
 ],
 "metadata": {
  "kernelspec": {
   "display_name": "Python 3 (ipykernel)",
   "language": "python",
   "name": "python3"
  },
  "language_info": {
   "codemirror_mode": {
    "name": "ipython",
    "version": 3
   },
   "file_extension": ".py",
   "mimetype": "text/x-python",
   "name": "python",
   "nbconvert_exporter": "python",
   "pygments_lexer": "ipython3",
   "version": "3.9.7"
  }
 },
 "nbformat": 4,
 "nbformat_minor": 5
}
