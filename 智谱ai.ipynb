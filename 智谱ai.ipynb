{
 "cells": [
  {
   "cell_type": "code",
   "execution_count": 11,
   "id": "f0d2d12b",
   "metadata": {},
   "outputs": [],
   "source": [
    "import os \n",
    "from zhipuai import ZhipuAI\n",
    "import base64 #导入base64库，用于将视频文件编码成base64字符申格式\n",
    "os.environ[\"ZHIPUAI_API_KEY\"] = \"9bd46e9516914017dccd1b13806d718e.Aq1quFNOAu3uOVeO\"\n",
    "client = ZhipuAI()"
   ]
  },
  {
   "cell_type": "code",
   "execution_count": 13,
   "id": "8eb8ad3e",
   "metadata": {},
   "outputs": [
    {
     "name": "stdout",
     "output_type": "stream",
     "text": [
      "通常来说，视频理解的响应时间较长，需要等待数十秒….....\n",
      "CompletionMessage(content='一幅墙壁画描绘了一个穿着蓝白相间、红色点缀的冰球运动员，背景是风格化的松树和城市天际线。画面转换为一辆黑色SUV经过哈尔滨2025年亚洲冬季运动会的动态壁画，该壁画展示了穿着冬季运动服装的动画角色。壁画进一步变化，展示了一个节日的城市景观，其中有穿着传统俄罗斯服饰的角色和风车，然后是一个多彩的城市景象，其中融入了文化和现代元素。叙述以繁忙的街道场景结束，有车辆和大型广告牌宣传“冬季城市”，旁边是关于爱情和环保主题的信息。', role='assistant', tool_calls=None)\n"
     ]
    }
   ],
   "source": [
    "video_path = \"v.f100830.mp4\" \n",
    "# 设置视频文件的路径\n",
    "with open(video_path, 'rb') as video_file: # 以\"二进制读\"模式打开视频文件\n",
    "    video_base = base64.b64encode(video_file.read()).decode('utf-8')#把视频文件编码成智谱支持的video_base64字符串，再解码成utf-8格式字符申\n",
    "\n",
    "print(\"通常来说，视频理解的响应时间较长，需要等待数十秒….....\")\n",
    "\n",
    "response = client.chat.completions.create( # 直接调补全接口\n",
    "    model=\"glm-4v-plus\",# 设置智谱具体大模型，glm-4v-plus支持视频理解\n",
    "    temperature=0.0,#设置温度参数,控制生成文本的随机性, 0.0表示不随机,输出最可能的文本\n",
    "    top_p=0,# 设置top_p参数，控制生成文本的多样性，0表示不使用此参数\n",
    "\n",
    "    messages=[{ #设置消息列表\n",
    "        \"role\":\"user\",# 指定消息的角色为用户\n",
    "        \"content\":[{ # 定义消息内容列表\n",
    "            \"type\":\"video_url\", # 设置视频链接\n",
    "            \"video_url\":{\"url\":video_base} # 将编码后的视频以base64字符申形式作为链接\n",
    "        },{\n",
    "            \"type\":\"text\",\n",
    "            \"text\":\"请仔细描述这个视频的环境，讲给我听\" # 设置提问/提示词# 设置提问/提示词类型为文本\n",
    "        }]\n",
    "    }]\n",
    ")\n",
    "print(response.choices[0].message) # 输出回答列表中的第一个选项中的消息"
   ]
  },
  {
   "cell_type": "code",
   "execution_count": null,
   "id": "d88d117c",
   "metadata": {},
   "outputs": [],
   "source": []
  }
 ],
 "metadata": {
  "kernelspec": {
   "display_name": "Python 3 (ipykernel)",
   "language": "python",
   "name": "python3"
  },
  "language_info": {
   "codemirror_mode": {
    "name": "ipython",
    "version": 3
   },
   "file_extension": ".py",
   "mimetype": "text/x-python",
   "name": "python",
   "nbconvert_exporter": "python",
   "pygments_lexer": "ipython3",
   "version": "3.9.7"
  }
 },
 "nbformat": 4,
 "nbformat_minor": 5
}
